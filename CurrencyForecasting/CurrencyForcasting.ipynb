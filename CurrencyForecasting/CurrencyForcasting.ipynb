{
 "cells": [
  {
   "cell_type": "code",
   "execution_count": 1,
   "metadata": {},
   "outputs": [],
   "source": [
    "import pandas as pd\n",
    "import datetime\n",
    "from datetime import timedelta, date"
   ]
  },
  {
   "cell_type": "code",
   "execution_count": 2,
   "metadata": {},
   "outputs": [],
   "source": [
    "def daterange(start_date, end_date):\n",
    "    for n in range(int ((end_date - start_date).days)):\n",
    "        yield start_date + timedelta(n)"
   ]
  },
  {
   "cell_type": "code",
   "execution_count": 3,
   "metadata": {},
   "outputs": [],
   "source": [
    "start_date = date(2020, 1, 1)\n",
    "end_date = datetime.date.today()"
   ]
  },
  {
   "cell_type": "code",
   "execution_count": null,
   "metadata": {},
   "outputs": [],
   "source": [
    "df = pd.DataFrame()\n",
    "for single_date in daterange(start_date, end_date):\n",
    "    dfs = pd.read_html(f'https://www.xe.com/currencytables/?from=HKD&date={single_date.strftime(\"%Y-%m-%d\")}')[0]\n",
    "    dfs['Date'] = single_date.strftime(\"%Y-%m-%d\")\n",
    "    df = df.append(dfs)"
   ]
  },
  {
   "cell_type": "code",
   "execution_count": null,
   "metadata": {},
   "outputs": [],
   "source": [
    "inr_df = df[df['Currency'] == 'INR']\n",
    "inr_df.to_csv('hkd_data_2010_inr.csv')"
   ]
  },
  {
   "cell_type": "code",
   "execution_count": null,
   "metadata": {},
   "outputs": [],
   "source": [
    "hist_df = pd.read_csv('hkd_data_2010_inr.csv') "
   ]
  },
  {
   "cell_type": "code",
   "execution_count": null,
   "metadata": {},
   "outputs": [],
   "source": [
    "start_date = date(2021, 4, 23)\n",
    "end_date = datetime.date.today()"
   ]
  },
  {
   "cell_type": "code",
   "execution_count": null,
   "metadata": {},
   "outputs": [],
   "source": [
    "df = pd.DataFrame()\n",
    "for single_date in daterange(start_date, end_date):\n",
    "    dfs = pd.read_html(f'https://www.xe.com/currencytables/?from=HKD&date={single_date.strftime(\"%Y-%m-%d\")}')[0]\n",
    "    dfs['Date'] = single_date.strftime(\"%Y-%m-%d\")\n",
    "    df = df.append(dfs)"
   ]
  },
  {
   "cell_type": "code",
   "execution_count": null,
   "metadata": {},
   "outputs": [],
   "source": [
    "df.to_csv('hkd_data.csv')"
   ]
  },
  {
   "cell_type": "code",
   "execution_count": null,
   "metadata": {},
   "outputs": [],
   "source": [
    "inr_df = df[df['Currency'] == 'INR']"
   ]
  },
  {
   "cell_type": "code",
   "execution_count": null,
   "metadata": {},
   "outputs": [],
   "source": [
    "inr_df.pop('Rate')\n",
    "inr_df.pop('Change')"
   ]
  },
  {
   "cell_type": "code",
   "execution_count": null,
   "metadata": {},
   "outputs": [],
   "source": [
    "inr_df.head(5)"
   ]
  },
  {
   "cell_type": "code",
   "execution_count": null,
   "metadata": {},
   "outputs": [],
   "source": [
    "inr_df = pd.concat([hist_df, inr_df], ignore_index=True)\n",
    "\n",
    "inr_df.plot(x='Date', y='Units per HKD', figsize=(12, 8))"
   ]
  },
  {
   "cell_type": "code",
   "execution_count": null,
   "metadata": {},
   "outputs": [],
   "source": [
    "#FB Prophet Part\n",
    "\n",
    "import pandas as pd\n",
    "from fbprophet import Prophet \n",
    "import plotly.graph_objs as go\n",
    "import plotly.offline as py\n",
    "import numpy as np"
   ]
  },
  {
   "cell_type": "code",
   "execution_count": null,
   "metadata": {},
   "outputs": [],
   "source": [
    "df= inr_df.drop(['Currency', 'Name', 'HKD per unit'], axis=1)"
   ]
  },
  {
   "cell_type": "code",
   "execution_count": null,
   "metadata": {},
   "outputs": [],
   "source": [
    "\n",
    "df = df.rename(columns={'Units per HKD': 'y', 'Date': 'ds'})\n",
    "#df['ds'] =  pd.to_datetime(df['ds'], format='%d/%m/%Y')\n",
    "df.head(5)"
   ]
  },
  {
   "cell_type": "code",
   "execution_count": null,
   "metadata": {},
   "outputs": [],
   "source": [
    "# to save a copy of the original data..you'll see why shortly. \n",
    "df['y_orig'] = df['y'] \n",
    "# log-transform of y\n",
    "df['y'] = np.log(df['y'])"
   ]
  },
  {
   "cell_type": "code",
   "execution_count": null,
   "metadata": {},
   "outputs": [],
   "source": [
    "#instantiate Prophet\n",
    "model = Prophet() \n",
    "model.fit(df)"
   ]
  },
  {
   "cell_type": "code",
   "execution_count": null,
   "metadata": {},
   "outputs": [],
   "source": [
    "future_data = model.make_future_dataframe(periods=10, freq = 'D')\n",
    "future_data.tail()"
   ]
  },
  {
   "cell_type": "code",
   "execution_count": null,
   "metadata": {},
   "outputs": [],
   "source": [
    "forecast_data = model.predict(future_data)\n",
    "forecast_data[['ds', 'yhat', 'yhat_lower', 'yhat_upper']].tail(5)"
   ]
  },
  {
   "cell_type": "code",
   "execution_count": null,
   "metadata": {},
   "outputs": [],
   "source": [
    "# make sure we save the original forecast data\n",
    "forecast_data_orig = forecast_data \n",
    "forecast_data_orig['yhat'] = np.exp(forecast_data_orig['yhat'])\n",
    "forecast_data_orig['yhat_lower'] = np.exp(forecast_data_orig['yhat_lower'])\n",
    "forecast_data_orig['yhat_upper'] = np.exp(forecast_data_orig['yhat_upper'])\n",
    "fig = model.plot(forecast_data_orig)"
   ]
  },
  {
   "cell_type": "code",
   "execution_count": null,
   "metadata": {},
   "outputs": [],
   "source": [
    "fig2 = model.plot_components(forecast_data_orig)"
   ]
  },
  {
   "cell_type": "code",
   "execution_count": null,
   "metadata": {},
   "outputs": [],
   "source": [
    "df['y_log']=df['y'] \n",
    "df['y']=df['y_orig']"
   ]
  },
  {
   "cell_type": "code",
   "execution_count": null,
   "metadata": {},
   "outputs": [],
   "source": [
    "# Python\n",
    "from fbprophet.plot import plot_plotly\n",
    "import plotly.offline as py\n",
    "py.init_notebook_mode()"
   ]
  },
  {
   "cell_type": "code",
   "execution_count": null,
   "metadata": {},
   "outputs": [],
   "source": [
    "fig = plot_plotly(model, forecast_data_orig)  # This returns a plotly Figure\n",
    "py.iplot(fig)"
   ]
  },
  {
   "cell_type": "code",
   "execution_count": null,
   "metadata": {},
   "outputs": [],
   "source": [
    "final_df = pd.DataFrame(forecast_data_orig)\n",
    "actual_chart = go.Scatter(y=df[\"y_orig\"], name= 'Actual')\n",
    "predict_chart = go.Scatter(y=final_df[\"yhat\"], name= 'Predicted')\n",
    "predict_chart_upper = go.Scatter(y=final_df[\"yhat_upper\"], name= 'Predicted Upper')\n",
    "predict_chart_lower = go.Scatter(y=final_df[\"yhat_lower\"], name= 'Predicted Lower')\n",
    "py.plot([actual_chart, predict_chart, predict_chart_upper, predict_chart_lower])"
   ]
  }
 ],
 "metadata": {
  "kernelspec": {
   "display_name": "base",
   "language": "python",
   "name": "python3"
  },
  "language_info": {
   "codemirror_mode": {
    "name": "ipython",
    "version": 3
   },
   "file_extension": ".py",
   "mimetype": "text/x-python",
   "name": "python",
   "nbconvert_exporter": "python",
   "pygments_lexer": "ipython3",
   "version": "3.9.13"
  },
  "orig_nbformat": 4,
  "vscode": {
   "interpreter": {
    "hash": "72ac9bc46bde6907b0b214775265cce7138316dca095cf7184d5960928905317"
   }
  }
 },
 "nbformat": 4,
 "nbformat_minor": 2
}
