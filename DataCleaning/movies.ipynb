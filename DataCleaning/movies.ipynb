{
 "cells": [
  {
   "cell_type": "markdown",
   "id": "286845e9",
   "metadata": {},
   "source": [
    "https://www.kaggle.com/datasets/bharatnatrayn/movies-dataset-for-feature-extracion-prediction \n",
    "\n",
    "Context\n",
    "The data is succesfully scrapped from imdb top netflix movies and tvshows.This dataset need clever programming knowledge for feature extraction also you can build a RECOMMENDATION system either GENRE prediction model\n",
    "\n",
    "Content\n",
    "The dataset contain more than 9 columns desrcibe the data pattern .I scrap the data from imdb web site using beautifulsoup.it takes a day to learn i am begginer even to data science but i learned quickly web scrapping with advanced python.Through this process i gained lot and also i suggest the data featuring part of this project takes time\n",
    "\n",
    "Acknowledgements\n",
    "Definitely the data collection is possible only with help of online stackoverflow and kaggle data science community\n",
    "\n",
    "Inspiration\n",
    "Create genre prediction model?\n",
    "\n",
    "The data is succesfully scrapped from imdb about netflix movies and tvshows.This dataset need clever programming knowledge for feature extraction also you can build a RECOMMENDATION system either GENRE prediction model\n",
    "ABOUT DATA\n",
    "\n",
    "MOVIES\n",
    "         The movie names are given under the column\n",
    "YEAR\n",
    "        The year of movie or tv shows telecast for audience\n",
    "GENRE\n",
    "        The dataset contain many genres most valuable for recommendation system\n",
    "RATING\n",
    "          The audience thought about movie or tv show given\n",
    "ONE-LINE\n",
    "           The short description about movie or tv show for audiences first impression\n",
    "STARS\n",
    "            The casting of art is define under this columns which makes talk between audience \n",
    "VOTES\n",
    "            The audience express their view under the columns its useful to identify impact make by art \n",
    "RUNTIME\n",
    "            The duration for runing time of art\n",
    "GROSS\n",
    "            It gives the total amount earned in worldwide"
   ]
  },
  {
   "cell_type": "code",
   "execution_count": 318,
   "id": "8eaa3af4",
   "metadata": {
    "ExecuteTime": {
     "end_time": "2022-12-22T18:25:35.485201Z",
     "start_time": "2022-12-22T18:25:35.472197Z"
    }
   },
   "outputs": [],
   "source": [
    "import numpy as np\n",
    "import pandas as pd\n",
    "import matplotlib as plt\n",
    "import re"
   ]
  },
  {
   "cell_type": "code",
   "execution_count": 319,
   "id": "b75263af",
   "metadata": {
    "ExecuteTime": {
     "end_time": "2022-12-22T18:25:35.597197Z",
     "start_time": "2022-12-22T18:25:35.490197Z"
    }
   },
   "outputs": [],
   "source": [
    "df = pd.read_csv(\"movies.csv\",parse_dates= [\"YEAR\"])"
   ]
  },
  {
   "cell_type": "markdown",
   "id": "a2b338c4",
   "metadata": {},
   "source": [
    "# df.head() +"
   ]
  },
  {
   "cell_type": "code",
   "execution_count": 320,
   "id": "5fa980f2",
   "metadata": {
    "ExecuteTime": {
     "end_time": "2022-12-22T18:25:35.629196Z",
     "start_time": "2022-12-22T18:25:35.601195Z"
    }
   },
   "outputs": [
    {
     "data": {
      "text/html": [
       "<div>\n",
       "<style scoped>\n",
       "    .dataframe tbody tr th:only-of-type {\n",
       "        vertical-align: middle;\n",
       "    }\n",
       "\n",
       "    .dataframe tbody tr th {\n",
       "        vertical-align: top;\n",
       "    }\n",
       "\n",
       "    .dataframe thead th {\n",
       "        text-align: right;\n",
       "    }\n",
       "</style>\n",
       "<table border=\"1\" class=\"dataframe\">\n",
       "  <thead>\n",
       "    <tr style=\"text-align: right;\">\n",
       "      <th></th>\n",
       "      <th>MOVIES</th>\n",
       "      <th>YEAR</th>\n",
       "      <th>GENRE</th>\n",
       "      <th>RATING</th>\n",
       "      <th>ONE-LINE</th>\n",
       "      <th>STARS</th>\n",
       "      <th>VOTES</th>\n",
       "      <th>RunTime</th>\n",
       "      <th>Gross</th>\n",
       "    </tr>\n",
       "  </thead>\n",
       "  <tbody>\n",
       "    <tr>\n",
       "      <th>0</th>\n",
       "      <td>Blood Red Sky</td>\n",
       "      <td>(2021)</td>\n",
       "      <td>\\r\\nAction, Horror, Thriller</td>\n",
       "      <td>6.1</td>\n",
       "      <td>\\r\\nA woman with a mysterious illness is force...</td>\n",
       "      <td>\\r\\n    Director:\\r\\nPeter Thorwarth\\r\\n| \\r\\n...</td>\n",
       "      <td>21,062</td>\n",
       "      <td>121.0</td>\n",
       "      <td>NaN</td>\n",
       "    </tr>\n",
       "    <tr>\n",
       "      <th>1</th>\n",
       "      <td>Masters of the Universe: Revelation</td>\n",
       "      <td>(2021– )</td>\n",
       "      <td>\\r\\nAnimation, Action, Adventure</td>\n",
       "      <td>5.0</td>\n",
       "      <td>\\r\\nThe war for Eternia begins again in what m...</td>\n",
       "      <td>\\r\\n            \\r\\n    Stars:\\r\\nChris Wood, ...</td>\n",
       "      <td>17,870</td>\n",
       "      <td>25.0</td>\n",
       "      <td>NaN</td>\n",
       "    </tr>\n",
       "    <tr>\n",
       "      <th>2</th>\n",
       "      <td>The Walking Dead</td>\n",
       "      <td>(2010–2022)</td>\n",
       "      <td>\\r\\nDrama, Horror, Thriller</td>\n",
       "      <td>8.2</td>\n",
       "      <td>\\r\\nSheriff Deputy Rick Grimes wakes up from a...</td>\n",
       "      <td>\\r\\n            \\r\\n    Stars:\\r\\nAndrew Linco...</td>\n",
       "      <td>885,805</td>\n",
       "      <td>44.0</td>\n",
       "      <td>NaN</td>\n",
       "    </tr>\n",
       "    <tr>\n",
       "      <th>3</th>\n",
       "      <td>Rick and Morty</td>\n",
       "      <td>(2013– )</td>\n",
       "      <td>\\r\\nAnimation, Adventure, Comedy</td>\n",
       "      <td>9.2</td>\n",
       "      <td>\\r\\nAn animated series that follows the exploi...</td>\n",
       "      <td>\\r\\n            \\r\\n    Stars:\\r\\nJustin Roila...</td>\n",
       "      <td>414,849</td>\n",
       "      <td>23.0</td>\n",
       "      <td>NaN</td>\n",
       "    </tr>\n",
       "    <tr>\n",
       "      <th>4</th>\n",
       "      <td>Army of Thieves</td>\n",
       "      <td>(2021)</td>\n",
       "      <td>\\r\\nAction, Crime, Horror</td>\n",
       "      <td>NaN</td>\n",
       "      <td>\\r\\nA prequel, set before the events of Army o...</td>\n",
       "      <td>\\r\\n    Director:\\r\\nMatthias Schweighöfer\\r\\n...</td>\n",
       "      <td>NaN</td>\n",
       "      <td>NaN</td>\n",
       "      <td>NaN</td>\n",
       "    </tr>\n",
       "  </tbody>\n",
       "</table>\n",
       "</div>"
      ],
      "text/plain": [
       "                                MOVIES         YEAR  \\\n",
       "0                        Blood Red Sky       (2021)   \n",
       "1  Masters of the Universe: Revelation     (2021– )   \n",
       "2                     The Walking Dead  (2010–2022)   \n",
       "3                       Rick and Morty     (2013– )   \n",
       "4                      Army of Thieves       (2021)   \n",
       "\n",
       "                                          GENRE  RATING  \\\n",
       "0      \\r\\nAction, Horror, Thriller                 6.1   \n",
       "1  \\r\\nAnimation, Action, Adventure                 5.0   \n",
       "2       \\r\\nDrama, Horror, Thriller                 8.2   \n",
       "3  \\r\\nAnimation, Adventure, Comedy                 9.2   \n",
       "4         \\r\\nAction, Crime, Horror                 NaN   \n",
       "\n",
       "                                            ONE-LINE  \\\n",
       "0  \\r\\nA woman with a mysterious illness is force...   \n",
       "1  \\r\\nThe war for Eternia begins again in what m...   \n",
       "2  \\r\\nSheriff Deputy Rick Grimes wakes up from a...   \n",
       "3  \\r\\nAn animated series that follows the exploi...   \n",
       "4  \\r\\nA prequel, set before the events of Army o...   \n",
       "\n",
       "                                               STARS    VOTES  RunTime Gross  \n",
       "0  \\r\\n    Director:\\r\\nPeter Thorwarth\\r\\n| \\r\\n...   21,062    121.0   NaN  \n",
       "1  \\r\\n            \\r\\n    Stars:\\r\\nChris Wood, ...   17,870     25.0   NaN  \n",
       "2  \\r\\n            \\r\\n    Stars:\\r\\nAndrew Linco...  885,805     44.0   NaN  \n",
       "3  \\r\\n            \\r\\n    Stars:\\r\\nJustin Roila...  414,849     23.0   NaN  \n",
       "4  \\r\\n    Director:\\r\\nMatthias Schweighöfer\\r\\n...      NaN      NaN   NaN  "
      ]
     },
     "execution_count": 320,
     "metadata": {},
     "output_type": "execute_result"
    }
   ],
   "source": [
    "df.head()"
   ]
  },
  {
   "cell_type": "code",
   "execution_count": 321,
   "id": "e79dc9ce",
   "metadata": {
    "ExecuteTime": {
     "end_time": "2022-12-22T18:25:35.677195Z",
     "start_time": "2022-12-22T18:25:35.634194Z"
    }
   },
   "outputs": [
    {
     "name": "stdout",
     "output_type": "stream",
     "text": [
      "<class 'pandas.core.frame.DataFrame'>\n",
      "RangeIndex: 9999 entries, 0 to 9998\n",
      "Data columns (total 9 columns):\n",
      " #   Column    Non-Null Count  Dtype  \n",
      "---  ------    --------------  -----  \n",
      " 0   MOVIES    9999 non-null   object \n",
      " 1   YEAR      9355 non-null   object \n",
      " 2   GENRE     9919 non-null   object \n",
      " 3   RATING    8179 non-null   float64\n",
      " 4   ONE-LINE  9999 non-null   object \n",
      " 5   STARS     9999 non-null   object \n",
      " 6   VOTES     8179 non-null   object \n",
      " 7   RunTime   7041 non-null   float64\n",
      " 8   Gross     460 non-null    object \n",
      "dtypes: float64(2), object(7)\n",
      "memory usage: 703.2+ KB\n"
     ]
    }
   ],
   "source": [
    "df.info()"
   ]
  },
  {
   "cell_type": "code",
   "execution_count": 322,
   "id": "aa0aa704",
   "metadata": {},
   "outputs": [
    {
     "data": {
      "text/plain": [
       "Index(['MOVIES', 'YEAR', 'GENRE', 'RATING', 'ONE-LINE', 'STARS', 'VOTES',\n",
       "       'RunTime', 'Gross'],\n",
       "      dtype='object')"
      ]
     },
     "execution_count": 322,
     "metadata": {},
     "output_type": "execute_result"
    }
   ],
   "source": [
    "df.columns"
   ]
  },
  {
   "cell_type": "code",
   "execution_count": 323,
   "id": "6594ccea",
   "metadata": {
    "ExecuteTime": {
     "end_time": "2022-12-22T18:25:35.708193Z",
     "start_time": "2022-12-22T18:25:35.680194Z"
    }
   },
   "outputs": [
    {
     "data": {
      "text/plain": [
       "['YEAR', 'GENRE', 'RATING', 'VOTES', 'RunTime', 'Gross']"
      ]
     },
     "execution_count": 323,
     "metadata": {},
     "output_type": "execute_result"
    }
   ],
   "source": [
    "miss_val = []\n",
    "\n",
    "[miss_val.append(i) for i in df.columns if any(df[i].isnull())]\n",
    "\n",
    "miss_val"
   ]
  },
  {
   "cell_type": "code",
   "execution_count": 324,
   "id": "293f823d",
   "metadata": {
    "ExecuteTime": {
     "end_time": "2022-12-22T18:25:35.740196Z",
     "start_time": "2022-12-22T18:25:35.714195Z"
    }
   },
   "outputs": [
    {
     "data": {
      "text/plain": [
       "(9999, 9)"
      ]
     },
     "execution_count": 324,
     "metadata": {},
     "output_type": "execute_result"
    }
   ],
   "source": [
    "df.shape"
   ]
  },
  {
   "cell_type": "code",
   "execution_count": 325,
   "id": "58f2d8e4",
   "metadata": {
    "ExecuteTime": {
     "end_time": "2022-12-22T18:25:35.770198Z",
     "start_time": "2022-12-22T18:25:35.746198Z"
    }
   },
   "outputs": [],
   "source": [
    "def first_looking(col):\n",
    "    print(\"column name    : \", col)\n",
    "    print(\"--------------------------------\")\n",
    "    print(\"per_of_nulls   : \", \"%\", round(df[col].isnull().sum()/df.shape[0]*100, 2))\n",
    "    print(\"num_of_nulls   : \", df[col].isnull().sum())\n",
    "    print(\"num_of_uniques : \", df[col].nunique())\n",
    "    print(df[col].value_counts(dropna = False))"
   ]
  },
  {
   "cell_type": "code",
   "execution_count": 326,
   "id": "713b8358",
   "metadata": {},
   "outputs": [
    {
     "data": {
      "text/html": [
       "<div>\n",
       "<style scoped>\n",
       "    .dataframe tbody tr th:only-of-type {\n",
       "        vertical-align: middle;\n",
       "    }\n",
       "\n",
       "    .dataframe tbody tr th {\n",
       "        vertical-align: top;\n",
       "    }\n",
       "\n",
       "    .dataframe thead th {\n",
       "        text-align: right;\n",
       "    }\n",
       "</style>\n",
       "<table border=\"1\" class=\"dataframe\">\n",
       "  <thead>\n",
       "    <tr style=\"text-align: right;\">\n",
       "      <th></th>\n",
       "      <th>count</th>\n",
       "      <th>mean</th>\n",
       "      <th>std</th>\n",
       "      <th>min</th>\n",
       "      <th>25%</th>\n",
       "      <th>50%</th>\n",
       "      <th>75%</th>\n",
       "      <th>max</th>\n",
       "    </tr>\n",
       "  </thead>\n",
       "  <tbody>\n",
       "    <tr>\n",
       "      <th>RATING</th>\n",
       "      <td>8179.0</td>\n",
       "      <td>6.921176</td>\n",
       "      <td>1.220232</td>\n",
       "      <td>1.1</td>\n",
       "      <td>6.2</td>\n",
       "      <td>7.1</td>\n",
       "      <td>7.8</td>\n",
       "      <td>9.9</td>\n",
       "    </tr>\n",
       "    <tr>\n",
       "      <th>RunTime</th>\n",
       "      <td>7041.0</td>\n",
       "      <td>68.688539</td>\n",
       "      <td>47.258056</td>\n",
       "      <td>1.0</td>\n",
       "      <td>36.0</td>\n",
       "      <td>60.0</td>\n",
       "      <td>95.0</td>\n",
       "      <td>853.0</td>\n",
       "    </tr>\n",
       "  </tbody>\n",
       "</table>\n",
       "</div>"
      ],
      "text/plain": [
       "          count       mean        std  min   25%   50%   75%    max\n",
       "RATING   8179.0   6.921176   1.220232  1.1   6.2   7.1   7.8    9.9\n",
       "RunTime  7041.0  68.688539  47.258056  1.0  36.0  60.0  95.0  853.0"
      ]
     },
     "execution_count": 326,
     "metadata": {},
     "output_type": "execute_result"
    }
   ],
   "source": [
    "df.describe().T"
   ]
  },
  {
   "cell_type": "code",
   "execution_count": 327,
   "id": "62ab25c8",
   "metadata": {},
   "outputs": [
    {
     "data": {
      "text/plain": [
       "(9999, 9)"
      ]
     },
     "execution_count": 327,
     "metadata": {},
     "output_type": "execute_result"
    }
   ],
   "source": [
    "df.shape"
   ]
  },
  {
   "cell_type": "code",
   "execution_count": 328,
   "id": "bd033857",
   "metadata": {},
   "outputs": [
    {
     "data": {
      "text/plain": [
       "MOVIES       0.000000\n",
       "YEAR         6.440644\n",
       "GENRE        0.800080\n",
       "RATING      18.201820\n",
       "ONE-LINE     0.000000\n",
       "STARS        0.000000\n",
       "VOTES       18.201820\n",
       "RunTime     29.582958\n",
       "Gross       95.399540\n",
       "dtype: float64"
      ]
     },
     "execution_count": 328,
     "metadata": {},
     "output_type": "execute_result"
    }
   ],
   "source": [
    "df.isnull().sum()*100/df.shape[0]"
   ]
  },
  {
   "cell_type": "code",
   "execution_count": 329,
   "id": "c92d91b0",
   "metadata": {},
   "outputs": [],
   "source": [
    "def show_null(df, limit):\n",
    "    missing = df.isnull().sum()*100/df.shape[0]\n",
    "    return missing.loc[lambda x: x > limit]\n",
    "\n",
    "def percentage_null(serials):\n",
    "    return serials.isnull().sum()/serials.shape[0]*100"
   ]
  },
  {
   "cell_type": "code",
   "execution_count": 330,
   "id": "deb8db6b",
   "metadata": {},
   "outputs": [
    {
     "data": {
      "text/plain": [
       "Gross    95.39954\n",
       "dtype: float64"
      ]
     },
     "execution_count": 330,
     "metadata": {},
     "output_type": "execute_result"
    }
   ],
   "source": [
    "show_null(df, 92)"
   ]
  },
  {
   "cell_type": "code",
   "execution_count": 331,
   "id": "3bb3eec4",
   "metadata": {},
   "outputs": [],
   "source": [
    "def fill_most(df, group_col, col_name):\n",
    "    '''Fills the missing values with the most existing value (mode) in the relevant column according to single-stage grouping'''\n",
    "    for group in list(df[group_col].unique()):\n",
    "        cond = df[group_col]==group\n",
    "        mode = list(df[cond][col_name].mode())\n",
    "        if mode != []:\n",
    "            df.loc[cond, col_name] = df.loc[cond, col_name].fillna(df[cond][col_name].mode()[0])\n",
    "        else:\n",
    "            df.loc[cond, col_name] = df.loc[cond, col_name].fillna(df[col_name].mode()[0])\n",
    "    print(\"Number of NaN : \",df[col_name].isnull().sum())\n",
    "    print(\"------------------\")\n",
    "    print(df[col_name].value_counts(dropna=False))"
   ]
  },
  {
   "cell_type": "code",
   "execution_count": 332,
   "id": "c27307f3",
   "metadata": {},
   "outputs": [],
   "source": [
    "def fill_prop(df, group_col, col_name):\n",
    "    '''Fills the missing values with \"ffill and bfill method\" according to single-stage grouping'''\n",
    "    for group in list(df[group_col].unique()):\n",
    "        cond = df[group_col]==group\n",
    "        df.loc[cond, col_name] = df.loc[cond, col_name].fillna(method=\"ffill\").fillna(method=\"bfill\")\n",
    "    df[col_name] = df[col_name].fillna(method=\"ffill\").fillna(method=\"bfill\")\n",
    "    print(\"Number of NaN : \",df[col_name].isnull().sum())\n",
    "    print(\"------------------\")\n",
    "    print(df[col_name].value_counts(dropna=False))"
   ]
  },
  {
   "cell_type": "code",
   "execution_count": 333,
   "id": "58fe38e1",
   "metadata": {},
   "outputs": [],
   "source": [
    "def fill(df, group_col1, group_col2, col_name, method): # method can be \"mode\" or \"median\" or \"ffill\"\n",
    "    if method == \"mode\":\n",
    "        for group1 in list(df[group_col1].unique()):\n",
    "            for group2 in list(df[group_col2].unique()):\n",
    "                cond1 = df[group_col1]==group1\n",
    "                cond2 = (df[group_col1]==group1) & (df[group_col2]==group2)\n",
    "                mode1 = list(df[cond1][col_name].mode())\n",
    "                mode2 = list(df[cond2][col_name].mode())\n",
    "                if mode2 != []:\n",
    "                    df.loc[cond2, col_name] = df.loc[cond2, col_name].fillna(df[cond2][col_name].mode()[0])\n",
    "                elif mode1 != []:\n",
    "                    df.loc[cond2, col_name] = df.loc[cond2, col_name].fillna(df[cond1][col_name].mode()[0])\n",
    "                else:\n",
    "                    df.loc[cond2, col_name] = df.loc[cond2, col_name].fillna(df[col_name].mode()[0])\n",
    "                \n",
    "    elif method == \"median\":\n",
    "        for group1 in list(df[group_col1].unique()):\n",
    "            for group2 in list(df[group_col2].unique()):\n",
    "                cond1 = df[group_col1]==group1\n",
    "                cond2 = (df[group_col1]==group1) & (df[group_col2]==group2)\n",
    "                df.loc[cond2, col_name] = df.loc[cond2, col_name].fillna(df[cond2][col_name].median()).fillna(df[cond1][col_name].median()).fillna(df[col_name].median())\n",
    "                \n",
    "    elif method == \"ffill\":           \n",
    "        for group1 in list(df[group_col1].unique()):\n",
    "            for group2 in list(df[group_col2].unique()):\n",
    "                cond2 = (df[group_col1]==group1) & (df[group_col2]==group2)\n",
    "                df.loc[cond2, col_name] = df.loc[cond2, col_name].fillna(method=\"ffill\").fillna(method=\"bfill\")\n",
    "                \n",
    "        for group1 in list(df[group_col1].unique()):\n",
    "            cond1 = df[group_col1]==group1\n",
    "            df.loc[cond1, col_name] = df.loc[cond1, col_name].fillna(method=\"ffill\").fillna(method=\"bfill\")            \n",
    "           \n",
    "        df[col_name] = df[col_name].fillna(method=\"ffill\").fillna(method=\"bfill\")\n",
    "    \n",
    "    print(\"Number of NaN : \",df[col_name].isnull().sum())\n",
    "    print(\"------------------\")\n",
    "    print(df[col_name].value_counts(dropna=False))"
   ]
  },
  {
   "attachments": {},
   "cell_type": "markdown",
   "id": "8def0a1f",
   "metadata": {},
   "source": [
    "LOOKING FOR COLUMNS ONE BY ONE"
   ]
  },
  {
   "attachments": {},
   "cell_type": "markdown",
   "id": "6c85a979",
   "metadata": {},
   "source": [
    "YEAR"
   ]
  },
  {
   "cell_type": "code",
   "execution_count": 334,
   "id": "39d59175",
   "metadata": {
    "ExecuteTime": {
     "end_time": "2022-12-22T18:25:35.801195Z",
     "start_time": "2022-12-22T18:25:35.776196Z"
    }
   },
   "outputs": [
    {
     "name": "stdout",
     "output_type": "stream",
     "text": [
      "column name    :  YEAR\n",
      "--------------------------------\n",
      "per_of_nulls   :  % 6.44\n",
      "num_of_nulls   :  644\n",
      "num_of_uniques :  438\n",
      "(2020– )        892\n",
      "(2021– )        658\n",
      "NaN             644\n",
      "(2020)          639\n",
      "(2019– )        549\n",
      "               ... \n",
      "(1981–1989)       1\n",
      "(III) (2016)      1\n",
      "(1995–2001)       1\n",
      "(2000–2014)       1\n",
      "(1985– )          1\n",
      "Name: YEAR, Length: 439, dtype: int64\n"
     ]
    }
   ],
   "source": [
    "first_looking(\"YEAR\")"
   ]
  },
  {
   "cell_type": "code",
   "execution_count": 335,
   "id": "4f5832ca",
   "metadata": {},
   "outputs": [
    {
     "data": {
      "text/plain": [
       "(2020– )        892\n",
       "(2021– )        658\n",
       "NaN             644\n",
       "(2020)          639\n",
       "(2019– )        549\n",
       "               ... \n",
       "(1981–1989)       1\n",
       "(III) (2016)      1\n",
       "(1995–2001)       1\n",
       "(2000–2014)       1\n",
       "(1985– )          1\n",
       "Name: YEAR, Length: 439, dtype: int64"
      ]
     },
     "execution_count": 335,
     "metadata": {},
     "output_type": "execute_result"
    }
   ],
   "source": [
    "df.YEAR.value_counts(dropna = False)\n"
   ]
  },
  {
   "cell_type": "code",
   "execution_count": 336,
   "id": "5dab3bd1",
   "metadata": {},
   "outputs": [
    {
     "name": "stderr",
     "output_type": "stream",
     "text": [
      "C:\\Users\\TOSHIBA\\AppData\\Local\\Temp\\ipykernel_5104\\780251319.py:1: FutureWarning: The default value of regex will change from True to False in a future version.\n",
      "  df['YEAR'] = df['YEAR'].str.replace(r'[()]',\"\")\n"
     ]
    },
    {
     "data": {
      "text/plain": [
       "0            2021\n",
       "1          2021– \n",
       "2       2010–2022\n",
       "3          2013– \n",
       "4            2021\n",
       "          ...    \n",
       "9994       2021– \n",
       "9995       2021– \n",
       "9996       2022– \n",
       "9997       2021– \n",
       "9998       2021– \n",
       "Name: YEAR, Length: 9999, dtype: object"
      ]
     },
     "execution_count": 336,
     "metadata": {},
     "output_type": "execute_result"
    }
   ],
   "source": [
    "df['YEAR'] = df['YEAR'].str.replace(r'[()]',\"\")\n",
    "df['YEAR']"
   ]
  },
  {
   "cell_type": "code",
   "execution_count": 337,
   "id": "a4c45683",
   "metadata": {},
   "outputs": [
    {
     "data": {
      "text/plain": [
       "0            2021\n",
       "1          2021– \n",
       "2       2010–2022\n",
       "3          2013– \n",
       "4            2021\n",
       "          ...    \n",
       "9994       2021– \n",
       "9995       2021– \n",
       "9996       2022– \n",
       "9997       2021– \n",
       "9998       2021– \n",
       "Name: YEAR, Length: 9999, dtype: object"
      ]
     },
     "execution_count": 337,
     "metadata": {},
     "output_type": "execute_result"
    }
   ],
   "source": [
    "df['YEAR'] = df.YEAR.str.strip(\"III\")\n",
    "df['YEAR']"
   ]
  },
  {
   "cell_type": "code",
   "execution_count": 338,
   "id": "dc058995",
   "metadata": {},
   "outputs": [
    {
     "data": {
      "text/plain": [
       "2020–        892\n",
       "2021–        658\n",
       "NaN          644\n",
       "2020         639\n",
       "2019–        549\n",
       "            ... \n",
       "1941           1\n",
       "1992–1995      1\n",
       "1987–1994      1\n",
       "2009–2017      1\n",
       "1985–          1\n",
       "Name: YEAR, Length: 400, dtype: int64"
      ]
     },
     "execution_count": 338,
     "metadata": {},
     "output_type": "execute_result"
    }
   ],
   "source": [
    "df.YEAR.value_counts(dropna=False)"
   ]
  },
  {
   "attachments": {},
   "cell_type": "markdown",
   "id": "43c6d046",
   "metadata": {},
   "source": [
    "MOVIES"
   ]
  },
  {
   "cell_type": "code",
   "execution_count": 339,
   "id": "776d13e6",
   "metadata": {
    "ExecuteTime": {
     "end_time": "2022-12-22T18:25:35.832196Z",
     "start_time": "2022-12-22T18:25:35.806197Z"
    }
   },
   "outputs": [
    {
     "name": "stdout",
     "output_type": "stream",
     "text": [
      "column name    :  MOVIES\n",
      "--------------------------------\n",
      "per_of_nulls   :  % 0.0\n",
      "num_of_nulls   :  0\n",
      "num_of_uniques :  6817\n",
      " Bleach: Burîchi                         65\n",
      " Mighty Little Bheem                     64\n",
      " Avatar: The Last Airbender              61\n",
      " La Reina de Indias y el Conquistador    60\n",
      " Dexter                                  48\n",
      "                                         ..\n",
      "Ashby                                     1\n",
      "Syucheu                                   1\n",
      "#Realityhigh                              1\n",
      "Eobiseu                                   1\n",
      " Heart of Invictus                        1\n",
      "Name: MOVIES, Length: 6817, dtype: int64\n"
     ]
    }
   ],
   "source": [
    "first_looking(\"MOVIES\")"
   ]
  },
  {
   "cell_type": "code",
   "execution_count": 340,
   "id": "ae44d908",
   "metadata": {
    "ExecuteTime": {
     "end_time": "2022-12-22T18:25:35.878197Z",
     "start_time": "2022-12-22T18:25:35.842196Z"
    }
   },
   "outputs": [
    {
     "data": {
      "text/html": [
       "<div>\n",
       "<style scoped>\n",
       "    .dataframe tbody tr th:only-of-type {\n",
       "        vertical-align: middle;\n",
       "    }\n",
       "\n",
       "    .dataframe tbody tr th {\n",
       "        vertical-align: top;\n",
       "    }\n",
       "\n",
       "    .dataframe thead th {\n",
       "        text-align: right;\n",
       "    }\n",
       "</style>\n",
       "<table border=\"1\" class=\"dataframe\">\n",
       "  <thead>\n",
       "    <tr style=\"text-align: right;\">\n",
       "      <th></th>\n",
       "      <th>MOVIES</th>\n",
       "      <th>YEAR</th>\n",
       "      <th>GENRE</th>\n",
       "      <th>RATING</th>\n",
       "      <th>ONE-LINE</th>\n",
       "      <th>STARS</th>\n",
       "      <th>VOTES</th>\n",
       "      <th>RunTime</th>\n",
       "      <th>Gross</th>\n",
       "    </tr>\n",
       "  </thead>\n",
       "  <tbody>\n",
       "    <tr>\n",
       "      <th>2311</th>\n",
       "      <td>#Realityhigh</td>\n",
       "      <td>2017</td>\n",
       "      <td>\\r\\nComedy, Drama, Romance</td>\n",
       "      <td>5.2</td>\n",
       "      <td>\\r\\nHigh-achieving high-school senior Dani Bar...</td>\n",
       "      <td>\\r\\n    Director:\\r\\nFernando Lebrija\\r\\n| \\r\\...</td>\n",
       "      <td>5,947</td>\n",
       "      <td>99.0</td>\n",
       "      <td>NaN</td>\n",
       "    </tr>\n",
       "  </tbody>\n",
       "</table>\n",
       "</div>"
      ],
      "text/plain": [
       "            MOVIES  YEAR                                   GENRE  RATING  \\\n",
       "2311  #Realityhigh  2017  \\r\\nComedy, Drama, Romance                 5.2   \n",
       "\n",
       "                                               ONE-LINE  \\\n",
       "2311  \\r\\nHigh-achieving high-school senior Dani Bar...   \n",
       "\n",
       "                                                  STARS  VOTES  RunTime Gross  \n",
       "2311  \\r\\n    Director:\\r\\nFernando Lebrija\\r\\n| \\r\\...  5,947     99.0   NaN  "
      ]
     },
     "execution_count": 340,
     "metadata": {},
     "output_type": "execute_result"
    }
   ],
   "source": [
    "df[df.MOVIES == '#Realityhigh']"
   ]
  },
  {
   "cell_type": "code",
   "execution_count": 341,
   "id": "1cd6bfef",
   "metadata": {
    "ExecuteTime": {
     "end_time": "2022-12-22T18:25:35.893195Z",
     "start_time": "2022-12-22T18:25:35.882197Z"
    }
   },
   "outputs": [],
   "source": [
    "#df.MOVIES=df[df.MOVIES == '#Realityhigh'].replace('#','')"
   ]
  },
  {
   "cell_type": "code",
   "execution_count": 342,
   "id": "79b2b2ed",
   "metadata": {
    "ExecuteTime": {
     "end_time": "2022-12-22T18:25:35.925195Z",
     "start_time": "2022-12-22T18:25:35.896195Z"
    }
   },
   "outputs": [
    {
     "data": {
      "text/plain": [
       "9408                                        Caïd\n",
       "6593                             Bleach: Burîchi\n",
       "5646                                      Presos\n",
       "4804    Larry Charles' Dangerous World of Comedy\n",
       "2243                                 Gangcheolbi\n",
       "                          ...                   \n",
       "321       Rurôni Kenshin: Sai shûshô - The Final\n",
       "9998                              The Imperfects\n",
       "9866                                 Gokushufudo\n",
       "5512        Ugly Duckling Series: Boy's Paradise\n",
       "8742                          Selena: The Series\n",
       "Name: MOVIES, Length: 100, dtype: object"
      ]
     },
     "execution_count": 342,
     "metadata": {},
     "output_type": "execute_result"
    }
   ],
   "source": [
    "df.MOVIES.sample(100)"
   ]
  },
  {
   "attachments": {},
   "cell_type": "markdown",
   "id": "d0a364a8",
   "metadata": {},
   "source": [
    "GENRE"
   ]
  },
  {
   "cell_type": "code",
   "execution_count": 343,
   "id": "db06f17b",
   "metadata": {
    "ExecuteTime": {
     "end_time": "2022-12-22T18:25:35.989192Z",
     "start_time": "2022-12-22T18:25:35.964196Z"
    }
   },
   "outputs": [
    {
     "data": {
      "text/plain": [
       "\\r\\nComedy                                      852\n",
       "\\r\\nAnimation, Action, Adventure                693\n",
       "\\r\\nDrama                                       562\n",
       "\\r\\nDocumentary                                 498\n",
       "\\r\\nCrime, Drama, Mystery                       336\n",
       "                                               ... \n",
       "\\r\\nAction, Drama, Western                        1\n",
       "\\r\\nComedy, Horror, Talk-Show                     1\n",
       "\\r\\nFamily, Music, Romance                        1\n",
       "\\r\\nAnimation, Adventure, Horror                  1\n",
       "\\r\\nDocumentary, Crime, Thriller                  1\n",
       "Name: GENRE, Length: 511, dtype: int64"
      ]
     },
     "execution_count": 343,
     "metadata": {},
     "output_type": "execute_result"
    }
   ],
   "source": [
    "df.GENRE.value_counts(dropna=False)"
   ]
  },
  {
   "cell_type": "code",
   "execution_count": 344,
   "id": "2c7ee069",
   "metadata": {},
   "outputs": [
    {
     "data": {
      "text/plain": [
       "0           Action, Horror, Thriller            \n",
       "1       Animation, Action, Adventure            \n",
       "2            Drama, Horror, Thriller            \n",
       "3       Animation, Adventure, Comedy            \n",
       "4              Action, Crime, Horror            \n",
       "                          ...                   \n",
       "9994       Adventure, Drama, Fantasy            \n",
       "9995    Animation, Action, Adventure            \n",
       "9996              Documentary, Sport            \n",
       "9997       Adventure, Drama, Fantasy            \n",
       "9998       Adventure, Drama, Fantasy            \n",
       "Name: GENRE, Length: 9999, dtype: object"
      ]
     },
     "execution_count": 344,
     "metadata": {},
     "output_type": "execute_result"
    }
   ],
   "source": [
    "df['GENRE'] = df.GENRE.str.strip(\"\\r\\n\")\n",
    "df['GENRE']"
   ]
  },
  {
   "attachments": {},
   "cell_type": "markdown",
   "id": "5959971d",
   "metadata": {},
   "source": [
    "RATING"
   ]
  },
  {
   "cell_type": "code",
   "execution_count": 345,
   "id": "2c95f526",
   "metadata": {
    "ExecuteTime": {
     "end_time": "2022-12-22T18:25:36.020191Z",
     "start_time": "2022-12-22T18:25:35.992194Z"
    }
   },
   "outputs": [
    {
     "data": {
      "text/plain": [
       "NaN    1820\n",
       "7.2     331\n",
       "7.6     309\n",
       "7.5     309\n",
       "7.4     300\n",
       "       ... \n",
       "2.2       1\n",
       "1.1       1\n",
       "2.0       1\n",
       "2.4       1\n",
       "1.8       1\n",
       "Name: RATING, Length: 83, dtype: int64"
      ]
     },
     "execution_count": 345,
     "metadata": {},
     "output_type": "execute_result"
    }
   ],
   "source": [
    "df.RATING.value_counts(dropna=False)"
   ]
  },
  {
   "cell_type": "code",
   "execution_count": 346,
   "id": "1d9a0bec",
   "metadata": {},
   "outputs": [
    {
     "data": {
      "text/plain": [
       "0       6.1\n",
       "1       5.0\n",
       "2       8.2\n",
       "3       9.2\n",
       "4       9.2\n",
       "       ... \n",
       "9994    8.8\n",
       "9995    8.8\n",
       "9996    8.8\n",
       "9997    8.8\n",
       "9998    8.8\n",
       "Name: RATING, Length: 9999, dtype: float64"
      ]
     },
     "execution_count": 346,
     "metadata": {},
     "output_type": "execute_result"
    }
   ],
   "source": [
    "df[\"RATING\"] = df[\"RATING\"].fillna(method=\"ffill\")\n",
    "df[\"RATING\"]"
   ]
  },
  {
   "attachments": {},
   "cell_type": "markdown",
   "id": "86206690",
   "metadata": {},
   "source": [
    "one_line"
   ]
  },
  {
   "cell_type": "code",
   "execution_count": 347,
   "id": "82105480",
   "metadata": {
    "ExecuteTime": {
     "end_time": "2022-12-22T18:25:36.051193Z",
     "start_time": "2022-12-22T18:25:36.039195Z"
    }
   },
   "outputs": [],
   "source": [
    "df['one_line'] = df['ONE-LINE']\n",
    "df.drop('ONE-LINE', axis=1, inplace=True)"
   ]
  },
  {
   "cell_type": "code",
   "execution_count": 348,
   "id": "012cea7a",
   "metadata": {
    "ExecuteTime": {
     "end_time": "2022-12-22T18:25:36.114191Z",
     "start_time": "2022-12-22T18:25:36.090198Z"
    }
   },
   "outputs": [
    {
     "data": {
      "text/plain": [
       "\\r\\nAdd a Plot\\r\\n                                                                                                                                                                                                                                   1265\n",
       "\\r\\nThe Buddis bounce, spin, glide - and giggle. - through their magical world, learning new things and sharing the joy of friendship.                                                                                                                  8\n",
       "\\r\\nWith kindness, curiosity and childlike wonder, five best friends explore their colourful world and find the extraordinary in everyday things.                                                                                                       8\n",
       "\\r\\nPlot under wraps.                                                                                                                                                                                                                                   7\n",
       "\\r\\nPlot unknown.                                                                                                                                                                                                                                       7\n",
       "                                                                                                                                                                                                                                                     ... \n",
       "\\r\\nDeniz, an acclaimed author, is writing a book about his family and friends. He asks Orhan for critics. The day Orhan came to Istanbul from London, Deniz disappears. Orhan, Deniz's friend Neval and Deniz's lover Yusuf tries to find Deniz.       1\n",
       "\\r\\nWielding a light-up sword through the dark corners of a high school, a nurse with an unusual gift protects students from monsters only she can see.                                                                                                 1\n",
       "\\r\\n\"The Good Bandit\" introduces the new narco-comedy genre that, for the first time, presents a drug lord who repents of the choices he has made, willing to change his life away from the ...                See full summary »\\r\\n                   1\n",
       "\\r\\nTraveling to the exotic kingdom of Siam, English schoolteacher Anna Leonowens soon discovers that her most difficult challenge is the stubborn, imperious King himself.                                                                             1\n",
       "\\r\\nAs Paxton's mixed messages have Devi questioning herself, the upcoming winter dance offers a chance to determine where she stands- and what she needs.                                                                                              1\n",
       "Name: one_line, Length: 8688, dtype: int64"
      ]
     },
     "execution_count": 348,
     "metadata": {},
     "output_type": "execute_result"
    }
   ],
   "source": [
    "df.one_line.value_counts(dropna=False)"
   ]
  },
  {
   "cell_type": "code",
   "execution_count": 349,
   "id": "b6f1efe1",
   "metadata": {},
   "outputs": [
    {
     "data": {
      "text/plain": [
       "0       A woman with a mysterious illness is forced in...\n",
       "1       The war for Eternia begins again in what may b...\n",
       "2       Sheriff Deputy Rick Grimes wakes up from a com...\n",
       "3       An animated series that follows the exploits o...\n",
       "4       A prequel, set before the events of Army of th...\n",
       "                              ...                        \n",
       "9994                                           Add a Plot\n",
       "9995                                           Add a Plot\n",
       "9996                                           Add a Plot\n",
       "9997                                           Add a Plot\n",
       "9998                                           Add a Plot\n",
       "Name: one_line, Length: 9999, dtype: object"
      ]
     },
     "execution_count": 349,
     "metadata": {},
     "output_type": "execute_result"
    }
   ],
   "source": [
    "df['one_line'] = df.one_line.str.strip()\n",
    "df['one_line']"
   ]
  },
  {
   "attachments": {},
   "cell_type": "markdown",
   "id": "dfe2e59c",
   "metadata": {},
   "source": [
    "STARS"
   ]
  },
  {
   "cell_type": "code",
   "execution_count": 350,
   "id": "90d8c650",
   "metadata": {
    "ExecuteTime": {
     "end_time": "2022-12-22T18:25:36.145193Z",
     "start_time": "2022-12-22T18:25:36.117195Z"
    }
   },
   "outputs": [
    {
     "data": {
      "text/plain": [
       "\\r\\n                                                                                                                                                       456\n",
       "\\r\\n            \\r\\n    Stars:\\r\\nEmmanuel Esparza, \\r\\nEssined Aponte, \\r\\nManuel Navarro, \\r\\nÁlvaro Benet\\r\\n                                            58\n",
       "\\r\\n    Directors:\\r\\nRajiv Chilaka, \\r\\nKrishna Mohan Chintapatla\\r\\n                                                                                      49\n",
       "\\r\\n    Director:\\r\\nOliver Driver\\r\\n| \\r\\n    Stars:\\r\\nRorrie D. Travis, \\r\\nJasmeet Baduwalia, \\r\\nJacqueline Scislowski, \\r\\nAbraham Rodriguez\\r\\n     21\n",
       "\\r\\n            \\r\\n    Star:\\r\\nMichael J. Woodard\\r\\n                                                                                                     19\n",
       "                                                                                                                                                          ... \n",
       "\\r\\n            \\r\\n    Stars:\\r\\nDong-wook Kim, \\r\\nMoon Ga-young, \\r\\nSeul-gi Kim, \\r\\nJong-Hoon Yoon\\r\\n                                                  1\n",
       "\\r\\n            \\r\\n    Stars:\\r\\nCharles Demers, \\r\\nRebecca Husain, \\r\\nLili Beaudoin, \\r\\nAshleigh Ball\\r\\n                                               1\n",
       "\\r\\n            \\r\\n    Stars:\\r\\nJohn Paul Tremblay, \\r\\nRobb Wells, \\r\\nMike Smith, \\r\\nTom Mayhue\\r\\n                                                     1\n",
       "\\r\\n            \\r\\n    Stars:\\r\\nSu Meng Di, \\r\\nDai Yun Fan, \\r\\nCharles Lin, \\r\\nJasper Liu\\r\\n                                                           1\n",
       "\\r\\n    Director:\\r\\nJovanka Vuckovic\\r\\n| \\r\\n    Stars:\\r\\nMorgan Taylor Campbell, \\r\\nJennifer Cheon Garcia, \\r\\nIñaki Godoy, \\r\\nRhianna Jagpal\\r\\n      1\n",
       "Name: STARS, Length: 7877, dtype: int64"
      ]
     },
     "execution_count": 350,
     "metadata": {},
     "output_type": "execute_result"
    }
   ],
   "source": [
    "df.STARS.value_counts(dropna=False)"
   ]
  },
  {
   "cell_type": "code",
   "execution_count": 351,
   "id": "9e8a29d2",
   "metadata": {},
   "outputs": [
    {
     "data": {
      "text/plain": [
       "                                                                                                                                                   456\n",
       "Stars:\\r\\nEmmanuel Esparza, \\r\\nEssined Aponte, \\r\\nManuel Navarro, \\r\\nÁlvaro Benet\\r\\n                                                            58\n",
       "Directors:\\r\\nRajiv Chilaka, \\r\\nKrishna Mohan Chintapatla\\r\\n                                                                                      49\n",
       "Director:\\r\\nOliver Driver\\r\\n| \\r\\n    Stars:\\r\\nRorrie D. Travis, \\r\\nJasmeet Baduwalia, \\r\\nJacqueline Scislowski, \\r\\nAbraham Rodriguez\\r\\n     21\n",
       "Star:\\r\\nMichael J. Woodard\\r\\n                                                                                                                     19\n",
       "                                                                                                                                                  ... \n",
       "Stars:\\r\\nDong-wook Kim, \\r\\nMoon Ga-young, \\r\\nSeul-gi Kim, \\r\\nJong-Hoon Yoon\\r\\n                                                                  1\n",
       "Stars:\\r\\nCharles Demers, \\r\\nRebecca Husain, \\r\\nLili Beaudoin, \\r\\nAshleigh Ball\\r\\n                                                               1\n",
       "Stars:\\r\\nJohn Paul Tremblay, \\r\\nRobb Wells, \\r\\nMike Smith, \\r\\nTom Mayhue\\r\\n                                                                     1\n",
       "Stars:\\r\\nSu Meng Di, \\r\\nDai Yun Fan, \\r\\nCharles Lin, \\r\\nJasper Liu\\r\\n                                                                           1\n",
       "Director:\\r\\nJovanka Vuckovic\\r\\n| \\r\\n    Stars:\\r\\nMorgan Taylor Campbell, \\r\\nJennifer Cheon Garcia, \\r\\nIñaki Godoy, \\r\\nRhianna Jagpal\\r\\n      1\n",
       "Name: STARS, Length: 7877, dtype: int64"
      ]
     },
     "execution_count": 351,
     "metadata": {},
     "output_type": "execute_result"
    }
   ],
   "source": [
    "df['STARS'] = df.STARS.str.lstrip(\"'            '\\r\\n\")\n",
    "df['STARS'].value_counts()"
   ]
  },
  {
   "cell_type": "code",
   "execution_count": 352,
   "id": "5b440de0",
   "metadata": {},
   "outputs": [
    {
     "data": {
      "text/plain": [
       "0       Director:Peter Thorwarth|     Stars:Peri Baume...\n",
       "1       Stars:Chris Wood, Sarah Michelle Gellar, Lena ...\n",
       "2       Stars:Andrew Lincoln, Norman Reedus, Melissa M...\n",
       "3       Stars:Justin Roiland, Chris Parnell, Spencer G...\n",
       "4       Director:Matthias Schweighöfer|     Stars:Matt...\n",
       "                              ...                        \n",
       "9994    Stars:Morgan Taylor Campbell, Chris Cope, Iñak...\n",
       "9995                                                     \n",
       "9996    Director:Orlando von Einsiedel|     Star:Princ...\n",
       "9997    Director:Jovanka Vuckovic|     Stars:Morgan Ta...\n",
       "9998    Director:Jovanka Vuckovic|     Stars:Morgan Ta...\n",
       "Name: STARS, Length: 9999, dtype: object"
      ]
     },
     "execution_count": 352,
     "metadata": {},
     "output_type": "execute_result"
    }
   ],
   "source": [
    "df[\"STARS\"]= df[\"STARS\"].replace(\"\\r\\n\", \"\", regex=True)\n",
    "df[\"STARS\"]"
   ]
  },
  {
   "cell_type": "code",
   "execution_count": 353,
   "id": "f13e784d",
   "metadata": {},
   "outputs": [],
   "source": [
    "#res = []\n",
    "#for sub in df[\"STARS\"]:\n",
    "#    res.append(sub.replace(\"\\r\\n\", \"\"))\n",
    "\n",
    "#print(\"List after newline character removal : \" + str(res))"
   ]
  },
  {
   "cell_type": "code",
   "execution_count": 354,
   "id": "a76b1b12",
   "metadata": {},
   "outputs": [
    {
     "data": {
      "text/html": [
       "<div>\n",
       "<style scoped>\n",
       "    .dataframe tbody tr th:only-of-type {\n",
       "        vertical-align: middle;\n",
       "    }\n",
       "\n",
       "    .dataframe tbody tr th {\n",
       "        vertical-align: top;\n",
       "    }\n",
       "\n",
       "    .dataframe thead th {\n",
       "        text-align: right;\n",
       "    }\n",
       "</style>\n",
       "<table border=\"1\" class=\"dataframe\">\n",
       "  <thead>\n",
       "    <tr style=\"text-align: right;\">\n",
       "      <th></th>\n",
       "      <th>MOVIES</th>\n",
       "      <th>YEAR</th>\n",
       "      <th>GENRE</th>\n",
       "      <th>RATING</th>\n",
       "      <th>STARS</th>\n",
       "      <th>VOTES</th>\n",
       "      <th>RunTime</th>\n",
       "      <th>Gross</th>\n",
       "      <th>one_line</th>\n",
       "    </tr>\n",
       "  </thead>\n",
       "  <tbody>\n",
       "    <tr>\n",
       "      <th>0</th>\n",
       "      <td>Blood Red Sky</td>\n",
       "      <td>2021</td>\n",
       "      <td>Action, Horror, Thriller</td>\n",
       "      <td>6.1</td>\n",
       "      <td>Director:Peter Thorwarth|     Stars:Peri Baume...</td>\n",
       "      <td>21,062</td>\n",
       "      <td>121.0</td>\n",
       "      <td>NaN</td>\n",
       "      <td>A woman with a mysterious illness is forced in...</td>\n",
       "    </tr>\n",
       "    <tr>\n",
       "      <th>1</th>\n",
       "      <td>Masters of the Universe: Revelation</td>\n",
       "      <td>2021–</td>\n",
       "      <td>Animation, Action, Adventure</td>\n",
       "      <td>5.0</td>\n",
       "      <td>Stars:Chris Wood, Sarah Michelle Gellar, Lena ...</td>\n",
       "      <td>17,870</td>\n",
       "      <td>25.0</td>\n",
       "      <td>NaN</td>\n",
       "      <td>The war for Eternia begins again in what may b...</td>\n",
       "    </tr>\n",
       "    <tr>\n",
       "      <th>2</th>\n",
       "      <td>The Walking Dead</td>\n",
       "      <td>2010–2022</td>\n",
       "      <td>Drama, Horror, Thriller</td>\n",
       "      <td>8.2</td>\n",
       "      <td>Stars:Andrew Lincoln, Norman Reedus, Melissa M...</td>\n",
       "      <td>885,805</td>\n",
       "      <td>44.0</td>\n",
       "      <td>NaN</td>\n",
       "      <td>Sheriff Deputy Rick Grimes wakes up from a com...</td>\n",
       "    </tr>\n",
       "    <tr>\n",
       "      <th>3</th>\n",
       "      <td>Rick and Morty</td>\n",
       "      <td>2013–</td>\n",
       "      <td>Animation, Adventure, Comedy</td>\n",
       "      <td>9.2</td>\n",
       "      <td>Stars:Justin Roiland, Chris Parnell, Spencer G...</td>\n",
       "      <td>414,849</td>\n",
       "      <td>23.0</td>\n",
       "      <td>NaN</td>\n",
       "      <td>An animated series that follows the exploits o...</td>\n",
       "    </tr>\n",
       "    <tr>\n",
       "      <th>4</th>\n",
       "      <td>Army of Thieves</td>\n",
       "      <td>2021</td>\n",
       "      <td>Action, Crime, Horror</td>\n",
       "      <td>9.2</td>\n",
       "      <td>Director:Matthias Schweighöfer|     Stars:Matt...</td>\n",
       "      <td>NaN</td>\n",
       "      <td>NaN</td>\n",
       "      <td>NaN</td>\n",
       "      <td>A prequel, set before the events of Army of th...</td>\n",
       "    </tr>\n",
       "  </tbody>\n",
       "</table>\n",
       "</div>"
      ],
      "text/plain": [
       "                                MOVIES       YEAR  \\\n",
       "0                        Blood Red Sky       2021   \n",
       "1  Masters of the Universe: Revelation     2021–    \n",
       "2                     The Walking Dead  2010–2022   \n",
       "3                       Rick and Morty     2013–    \n",
       "4                      Army of Thieves       2021   \n",
       "\n",
       "                                      GENRE  RATING  \\\n",
       "0      Action, Horror, Thriller                 6.1   \n",
       "1  Animation, Action, Adventure                 5.0   \n",
       "2       Drama, Horror, Thriller                 8.2   \n",
       "3  Animation, Adventure, Comedy                 9.2   \n",
       "4         Action, Crime, Horror                 9.2   \n",
       "\n",
       "                                               STARS    VOTES  RunTime Gross  \\\n",
       "0  Director:Peter Thorwarth|     Stars:Peri Baume...   21,062    121.0   NaN   \n",
       "1  Stars:Chris Wood, Sarah Michelle Gellar, Lena ...   17,870     25.0   NaN   \n",
       "2  Stars:Andrew Lincoln, Norman Reedus, Melissa M...  885,805     44.0   NaN   \n",
       "3  Stars:Justin Roiland, Chris Parnell, Spencer G...  414,849     23.0   NaN   \n",
       "4  Director:Matthias Schweighöfer|     Stars:Matt...      NaN      NaN   NaN   \n",
       "\n",
       "                                            one_line  \n",
       "0  A woman with a mysterious illness is forced in...  \n",
       "1  The war for Eternia begins again in what may b...  \n",
       "2  Sheriff Deputy Rick Grimes wakes up from a com...  \n",
       "3  An animated series that follows the exploits o...  \n",
       "4  A prequel, set before the events of Army of th...  "
      ]
     },
     "execution_count": 354,
     "metadata": {},
     "output_type": "execute_result"
    }
   ],
   "source": [
    "df.head()"
   ]
  },
  {
   "cell_type": "code",
   "execution_count": 355,
   "id": "86823113",
   "metadata": {},
   "outputs": [
    {
     "data": {
      "text/plain": [
       "                                                                                                                   456\n",
       "Stars:Emmanuel Esparza, Essined Aponte, Manuel Navarro, Álvaro Benet                                                58\n",
       "Directors:Rajiv Chilaka, Krishna Mohan Chintapatla                                                                  49\n",
       "Director:Oliver Driver|     Stars:Rorrie D. Travis, Jasmeet Baduwalia, Jacqueline Scislowski, Abraham Rodriguez     21\n",
       "Star:Michael J. Woodard                                                                                             19\n",
       "                                                                                                                  ... \n",
       "Stars:Dong-wook Kim, Moon Ga-young, Seul-gi Kim, Jong-Hoon Yoon                                                      1\n",
       "Stars:Charles Demers, Rebecca Husain, Lili Beaudoin, Ashleigh Ball                                                   1\n",
       "Stars:John Paul Tremblay, Robb Wells, Mike Smith, Tom Mayhue                                                         1\n",
       "Stars:Su Meng Di, Dai Yun Fan, Charles Lin, Jasper Liu                                                               1\n",
       "Director:Jovanka Vuckovic|     Stars:Morgan Taylor Campbell, Jennifer Cheon Garcia, Iñaki Godoy, Rhianna Jagpal      1\n",
       "Name: STARS, Length: 7877, dtype: int64"
      ]
     },
     "execution_count": 355,
     "metadata": {},
     "output_type": "execute_result"
    }
   ],
   "source": [
    "df.STARS.value_counts()"
   ]
  },
  {
   "attachments": {},
   "cell_type": "markdown",
   "id": "921fe618",
   "metadata": {},
   "source": [
    "VOTES"
   ]
  },
  {
   "cell_type": "code",
   "execution_count": 356,
   "id": "f5173d8c",
   "metadata": {
    "ExecuteTime": {
     "end_time": "2022-12-22T18:25:36.176194Z",
     "start_time": "2022-12-22T18:25:36.149197Z"
    }
   },
   "outputs": [
    {
     "data": {
      "text/plain": [
       "NaN       1820\n",
       "7           35\n",
       "30          31\n",
       "26          28\n",
       "32          28\n",
       "          ... \n",
       "1,368        1\n",
       "2,437        1\n",
       "8,271        1\n",
       "10,883       1\n",
       "911          1\n",
       "Name: VOTES, Length: 4130, dtype: int64"
      ]
     },
     "execution_count": 356,
     "metadata": {},
     "output_type": "execute_result"
    }
   ],
   "source": [
    "df.VOTES.value_counts(dropna=False)"
   ]
  },
  {
   "cell_type": "code",
   "execution_count": 357,
   "id": "0b3e2ce7",
   "metadata": {},
   "outputs": [
    {
     "data": {
      "text/plain": [
       "0        21,062\n",
       "1        17,870\n",
       "2       885,805\n",
       "3       414,849\n",
       "4       414,849\n",
       "         ...   \n",
       "9994        433\n",
       "9995        433\n",
       "9996        433\n",
       "9997        433\n",
       "9998        433\n",
       "Name: VOTES, Length: 9999, dtype: object"
      ]
     },
     "execution_count": 357,
     "metadata": {},
     "output_type": "execute_result"
    }
   ],
   "source": [
    "df[\"VOTES\"] = df[\"VOTES\"].fillna(method=\"ffill\")\n",
    "df[\"VOTES\"]"
   ]
  },
  {
   "attachments": {},
   "cell_type": "markdown",
   "id": "ea404a28",
   "metadata": {},
   "source": [
    "RunTime"
   ]
  },
  {
   "cell_type": "code",
   "execution_count": 358,
   "id": "aa371bc4",
   "metadata": {
    "ExecuteTime": {
     "end_time": "2022-12-22T18:25:36.207200Z",
     "start_time": "2022-12-22T18:25:36.179198Z"
    }
   },
   "outputs": [
    {
     "data": {
      "text/plain": [
       "NaN      2958\n",
       "24.0      354\n",
       "60.0      299\n",
       "30.0      219\n",
       "23.0      183\n",
       "         ... \n",
       "542.0       1\n",
       "629.0       1\n",
       "498.0       1\n",
       "189.0       1\n",
       "165.0       1\n",
       "Name: RunTime, Length: 262, dtype: int64"
      ]
     },
     "execution_count": 358,
     "metadata": {},
     "output_type": "execute_result"
    }
   ],
   "source": [
    "df.RunTime.value_counts(dropna=False)"
   ]
  },
  {
   "cell_type": "code",
   "execution_count": 359,
   "id": "27c54038",
   "metadata": {},
   "outputs": [
    {
     "data": {
      "text/plain": [
       "0       121.0\n",
       "1        25.0\n",
       "2        44.0\n",
       "3        23.0\n",
       "4        23.0\n",
       "        ...  \n",
       "9994     38.0\n",
       "9995     38.0\n",
       "9996     38.0\n",
       "9997     38.0\n",
       "9998     38.0\n",
       "Name: RunTime, Length: 9999, dtype: float64"
      ]
     },
     "execution_count": 359,
     "metadata": {},
     "output_type": "execute_result"
    }
   ],
   "source": [
    "df[\"RunTime\"] = df[\"RunTime\"].fillna(method=\"ffill\")\n",
    "df[\"RunTime\"]"
   ]
  },
  {
   "attachments": {},
   "cell_type": "markdown",
   "id": "e19f8304",
   "metadata": {},
   "source": [
    "GROSS"
   ]
  },
  {
   "cell_type": "code",
   "execution_count": 360,
   "id": "f3e95d9d",
   "metadata": {
    "ExecuteTime": {
     "end_time": "2022-12-22T18:25:36.239194Z",
     "start_time": "2022-12-22T18:25:36.212196Z"
    }
   },
   "outputs": [
    {
     "data": {
      "text/plain": [
       "NaN        9539\n",
       "$0.01M       22\n",
       "$0.02M       16\n",
       "$0.00M       15\n",
       "$0.03M       10\n",
       "           ... \n",
       "$44.82M       1\n",
       "$21.36M       1\n",
       "$54.76M       1\n",
       "$77.22M       1\n",
       "$10.40M       1\n",
       "Name: Gross, Length: 333, dtype: int64"
      ]
     },
     "execution_count": 360,
     "metadata": {},
     "output_type": "execute_result"
    }
   ],
   "source": [
    "df.Gross.value_counts(dropna=False)"
   ]
  },
  {
   "cell_type": "code",
   "execution_count": 361,
   "id": "4f29de75",
   "metadata": {
    "ExecuteTime": {
     "end_time": "2022-12-22T18:25:36.475362Z",
     "start_time": "2022-12-22T18:25:36.463363Z"
    }
   },
   "outputs": [],
   "source": [
    "df.drop('Gross', axis=1, inplace=True)"
   ]
  },
  {
   "cell_type": "code",
   "execution_count": 362,
   "id": "feb7480f",
   "metadata": {},
   "outputs": [
    {
     "data": {
      "text/html": [
       "<div>\n",
       "<style scoped>\n",
       "    .dataframe tbody tr th:only-of-type {\n",
       "        vertical-align: middle;\n",
       "    }\n",
       "\n",
       "    .dataframe tbody tr th {\n",
       "        vertical-align: top;\n",
       "    }\n",
       "\n",
       "    .dataframe thead th {\n",
       "        text-align: right;\n",
       "    }\n",
       "</style>\n",
       "<table border=\"1\" class=\"dataframe\">\n",
       "  <thead>\n",
       "    <tr style=\"text-align: right;\">\n",
       "      <th></th>\n",
       "      <th>MOVIES</th>\n",
       "      <th>YEAR</th>\n",
       "      <th>GENRE</th>\n",
       "      <th>RATING</th>\n",
       "      <th>STARS</th>\n",
       "      <th>VOTES</th>\n",
       "      <th>RunTime</th>\n",
       "      <th>one_line</th>\n",
       "    </tr>\n",
       "  </thead>\n",
       "  <tbody>\n",
       "    <tr>\n",
       "      <th>0</th>\n",
       "      <td>Blood Red Sky</td>\n",
       "      <td>2021</td>\n",
       "      <td>Action, Horror, Thriller</td>\n",
       "      <td>6.1</td>\n",
       "      <td>Director:Peter Thorwarth|     Stars:Peri Baume...</td>\n",
       "      <td>21,062</td>\n",
       "      <td>121.0</td>\n",
       "      <td>A woman with a mysterious illness is forced in...</td>\n",
       "    </tr>\n",
       "    <tr>\n",
       "      <th>1</th>\n",
       "      <td>Masters of the Universe: Revelation</td>\n",
       "      <td>2021–</td>\n",
       "      <td>Animation, Action, Adventure</td>\n",
       "      <td>5.0</td>\n",
       "      <td>Stars:Chris Wood, Sarah Michelle Gellar, Lena ...</td>\n",
       "      <td>17,870</td>\n",
       "      <td>25.0</td>\n",
       "      <td>The war for Eternia begins again in what may b...</td>\n",
       "    </tr>\n",
       "    <tr>\n",
       "      <th>2</th>\n",
       "      <td>The Walking Dead</td>\n",
       "      <td>2010–2022</td>\n",
       "      <td>Drama, Horror, Thriller</td>\n",
       "      <td>8.2</td>\n",
       "      <td>Stars:Andrew Lincoln, Norman Reedus, Melissa M...</td>\n",
       "      <td>885,805</td>\n",
       "      <td>44.0</td>\n",
       "      <td>Sheriff Deputy Rick Grimes wakes up from a com...</td>\n",
       "    </tr>\n",
       "    <tr>\n",
       "      <th>3</th>\n",
       "      <td>Rick and Morty</td>\n",
       "      <td>2013–</td>\n",
       "      <td>Animation, Adventure, Comedy</td>\n",
       "      <td>9.2</td>\n",
       "      <td>Stars:Justin Roiland, Chris Parnell, Spencer G...</td>\n",
       "      <td>414,849</td>\n",
       "      <td>23.0</td>\n",
       "      <td>An animated series that follows the exploits o...</td>\n",
       "    </tr>\n",
       "    <tr>\n",
       "      <th>4</th>\n",
       "      <td>Army of Thieves</td>\n",
       "      <td>2021</td>\n",
       "      <td>Action, Crime, Horror</td>\n",
       "      <td>9.2</td>\n",
       "      <td>Director:Matthias Schweighöfer|     Stars:Matt...</td>\n",
       "      <td>414,849</td>\n",
       "      <td>23.0</td>\n",
       "      <td>A prequel, set before the events of Army of th...</td>\n",
       "    </tr>\n",
       "    <tr>\n",
       "      <th>...</th>\n",
       "      <td>...</td>\n",
       "      <td>...</td>\n",
       "      <td>...</td>\n",
       "      <td>...</td>\n",
       "      <td>...</td>\n",
       "      <td>...</td>\n",
       "      <td>...</td>\n",
       "      <td>...</td>\n",
       "    </tr>\n",
       "    <tr>\n",
       "      <th>9994</th>\n",
       "      <td>The Imperfects</td>\n",
       "      <td>2021–</td>\n",
       "      <td>Adventure, Drama, Fantasy</td>\n",
       "      <td>8.8</td>\n",
       "      <td>Stars:Morgan Taylor Campbell, Chris Cope, Iñak...</td>\n",
       "      <td>433</td>\n",
       "      <td>38.0</td>\n",
       "      <td>Add a Plot</td>\n",
       "    </tr>\n",
       "    <tr>\n",
       "      <th>9995</th>\n",
       "      <td>Arcane</td>\n",
       "      <td>2021–</td>\n",
       "      <td>Animation, Action, Adventure</td>\n",
       "      <td>8.8</td>\n",
       "      <td></td>\n",
       "      <td>433</td>\n",
       "      <td>38.0</td>\n",
       "      <td>Add a Plot</td>\n",
       "    </tr>\n",
       "    <tr>\n",
       "      <th>9996</th>\n",
       "      <td>Heart of Invictus</td>\n",
       "      <td>2022–</td>\n",
       "      <td>Documentary, Sport</td>\n",
       "      <td>8.8</td>\n",
       "      <td>Director:Orlando von Einsiedel|     Star:Princ...</td>\n",
       "      <td>433</td>\n",
       "      <td>38.0</td>\n",
       "      <td>Add a Plot</td>\n",
       "    </tr>\n",
       "    <tr>\n",
       "      <th>9997</th>\n",
       "      <td>The Imperfects</td>\n",
       "      <td>2021–</td>\n",
       "      <td>Adventure, Drama, Fantasy</td>\n",
       "      <td>8.8</td>\n",
       "      <td>Director:Jovanka Vuckovic|     Stars:Morgan Ta...</td>\n",
       "      <td>433</td>\n",
       "      <td>38.0</td>\n",
       "      <td>Add a Plot</td>\n",
       "    </tr>\n",
       "    <tr>\n",
       "      <th>9998</th>\n",
       "      <td>The Imperfects</td>\n",
       "      <td>2021–</td>\n",
       "      <td>Adventure, Drama, Fantasy</td>\n",
       "      <td>8.8</td>\n",
       "      <td>Director:Jovanka Vuckovic|     Stars:Morgan Ta...</td>\n",
       "      <td>433</td>\n",
       "      <td>38.0</td>\n",
       "      <td>Add a Plot</td>\n",
       "    </tr>\n",
       "  </tbody>\n",
       "</table>\n",
       "<p>9999 rows × 8 columns</p>\n",
       "</div>"
      ],
      "text/plain": [
       "                                   MOVIES       YEAR  \\\n",
       "0                           Blood Red Sky       2021   \n",
       "1     Masters of the Universe: Revelation     2021–    \n",
       "2                        The Walking Dead  2010–2022   \n",
       "3                          Rick and Morty     2013–    \n",
       "4                         Army of Thieves       2021   \n",
       "...                                   ...        ...   \n",
       "9994                       The Imperfects     2021–    \n",
       "9995                               Arcane     2021–    \n",
       "9996                    Heart of Invictus     2022–    \n",
       "9997                       The Imperfects     2021–    \n",
       "9998                       The Imperfects     2021–    \n",
       "\n",
       "                                         GENRE  RATING  \\\n",
       "0         Action, Horror, Thriller                 6.1   \n",
       "1     Animation, Action, Adventure                 5.0   \n",
       "2          Drama, Horror, Thriller                 8.2   \n",
       "3     Animation, Adventure, Comedy                 9.2   \n",
       "4            Action, Crime, Horror                 9.2   \n",
       "...                                        ...     ...   \n",
       "9994     Adventure, Drama, Fantasy                 8.8   \n",
       "9995  Animation, Action, Adventure                 8.8   \n",
       "9996            Documentary, Sport                 8.8   \n",
       "9997     Adventure, Drama, Fantasy                 8.8   \n",
       "9998     Adventure, Drama, Fantasy                 8.8   \n",
       "\n",
       "                                                  STARS    VOTES  RunTime  \\\n",
       "0     Director:Peter Thorwarth|     Stars:Peri Baume...   21,062    121.0   \n",
       "1     Stars:Chris Wood, Sarah Michelle Gellar, Lena ...   17,870     25.0   \n",
       "2     Stars:Andrew Lincoln, Norman Reedus, Melissa M...  885,805     44.0   \n",
       "3     Stars:Justin Roiland, Chris Parnell, Spencer G...  414,849     23.0   \n",
       "4     Director:Matthias Schweighöfer|     Stars:Matt...  414,849     23.0   \n",
       "...                                                 ...      ...      ...   \n",
       "9994  Stars:Morgan Taylor Campbell, Chris Cope, Iñak...      433     38.0   \n",
       "9995                                                         433     38.0   \n",
       "9996  Director:Orlando von Einsiedel|     Star:Princ...      433     38.0   \n",
       "9997  Director:Jovanka Vuckovic|     Stars:Morgan Ta...      433     38.0   \n",
       "9998  Director:Jovanka Vuckovic|     Stars:Morgan Ta...      433     38.0   \n",
       "\n",
       "                                               one_line  \n",
       "0     A woman with a mysterious illness is forced in...  \n",
       "1     The war for Eternia begins again in what may b...  \n",
       "2     Sheriff Deputy Rick Grimes wakes up from a com...  \n",
       "3     An animated series that follows the exploits o...  \n",
       "4     A prequel, set before the events of Army of th...  \n",
       "...                                                 ...  \n",
       "9994                                         Add a Plot  \n",
       "9995                                         Add a Plot  \n",
       "9996                                         Add a Plot  \n",
       "9997                                         Add a Plot  \n",
       "9998                                         Add a Plot  \n",
       "\n",
       "[9999 rows x 8 columns]"
      ]
     },
     "execution_count": 362,
     "metadata": {},
     "output_type": "execute_result"
    }
   ],
   "source": [
    "df"
   ]
  },
  {
   "cell_type": "code",
   "execution_count": 363,
   "id": "b6a1a945",
   "metadata": {},
   "outputs": [],
   "source": [
    "df.to_csv(\"cleaned_movies.csv\", index=False)"
   ]
  }
 ],
 "metadata": {
  "kernelspec": {
   "display_name": "base",
   "language": "python",
   "name": "python3"
  },
  "language_info": {
   "codemirror_mode": {
    "name": "ipython",
    "version": 3
   },
   "file_extension": ".py",
   "mimetype": "text/x-python",
   "name": "python",
   "nbconvert_exporter": "python",
   "pygments_lexer": "ipython3",
   "version": "3.9.13 (main, Aug 25 2022, 23:51:50) [MSC v.1916 64 bit (AMD64)]"
  },
  "toc": {
   "base_numbering": 1,
   "nav_menu": {},
   "number_sections": true,
   "sideBar": true,
   "skip_h1_title": false,
   "title_cell": "Table of Contents",
   "title_sidebar": "Contents",
   "toc_cell": false,
   "toc_position": {},
   "toc_section_display": true,
   "toc_window_display": false
  },
  "varInspector": {
   "cols": {
    "lenName": 16,
    "lenType": 16,
    "lenVar": 40
   },
   "kernels_config": {
    "python": {
     "delete_cmd_postfix": "",
     "delete_cmd_prefix": "del ",
     "library": "var_list.py",
     "varRefreshCmd": "print(var_dic_list())"
    },
    "r": {
     "delete_cmd_postfix": ") ",
     "delete_cmd_prefix": "rm(",
     "library": "var_list.r",
     "varRefreshCmd": "cat(var_dic_list()) "
    }
   },
   "types_to_exclude": [
    "module",
    "function",
    "builtin_function_or_method",
    "instance",
    "_Feature"
   ],
   "window_display": false
  },
  "vscode": {
   "interpreter": {
    "hash": "72ac9bc46bde6907b0b214775265cce7138316dca095cf7184d5960928905317"
   }
  }
 },
 "nbformat": 4,
 "nbformat_minor": 5
}
