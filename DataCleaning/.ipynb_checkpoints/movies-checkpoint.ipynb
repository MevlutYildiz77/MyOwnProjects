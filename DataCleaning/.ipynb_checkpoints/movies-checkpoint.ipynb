{
 "cells": [
  {
   "cell_type": "markdown",
   "id": "286845e9",
   "metadata": {},
   "source": [
    "https://www.kaggle.com/datasets/bharatnatrayn/movies-dataset-for-feature-extracion-prediction \n",
    "\n",
    "Context\n",
    "The data is succesfully scrapped from imdb top netflix movies and tvshows.This dataset need clever programming knowledge for feature extraction also you can build a RECOMMENDATION system either GENRE prediction model\n",
    "\n",
    "Content\n",
    "The dataset contain more than 9 columns desrcibe the data pattern .I scrap the data from imdb web site using beautifulsoup.it takes a day to learn i am begginer even to data science but i learned quickly web scrapping with advanced python.Through this process i gained lot and also i suggest the data featuring part of this project takes time\n",
    "\n",
    "Acknowledgements\n",
    "Definitely the data collection is possible only with help of online stackoverflow and kaggle data science community\n",
    "\n",
    "Inspiration\n",
    "Create genre prediction model?\n",
    "\n",
    "The data is succesfully scrapped from imdb about netflix movies and tvshows.This dataset need clever programming knowledge for feature extraction also you can build a RECOMMENDATION system either GENRE prediction model\n",
    "ABOUT DATA\n",
    "\n",
    "MOVIES\n",
    "         The movie names are given under the column\n",
    "YEAR\n",
    "        The year of movie or tv shows telecast for audience\n",
    "GENRE\n",
    "        The dataset contain many genres most valuable for recommendation system\n",
    "RATING\n",
    "          The audience thought about movie or tv show given\n",
    "ONE-LINE\n",
    "           The short description about movie or tv show for audiences first impression\n",
    "STARS\n",
    "            The casting of art is define under this columns which makes talk between audience \n",
    "VOTES\n",
    "            The audience express their view under the columns its useful to identify impact make by art \n",
    "RUNTIME\n",
    "            The duration for runing time of art\n",
    "GROSS\n",
    "            It gives the total amount earned in worldwide"
   ]
  },
  {
   "cell_type": "code",
   "execution_count": 49,
   "id": "8eaa3af4",
   "metadata": {},
   "outputs": [],
   "source": [
    "import numpy as np\n",
    "import pandas as pd\n",
    "import matplotlib as plt\n",
    "import re"
   ]
  },
  {
   "cell_type": "code",
   "execution_count": 50,
   "id": "b75263af",
   "metadata": {},
   "outputs": [],
   "source": [
    "df = pd.read_csv(\"movies.csv\",parse_dates= [\"YEAR\"])"
   ]
  },
  {
   "cell_type": "markdown",
   "id": "a2b338c4",
   "metadata": {},
   "source": [
    "# df.head() +"
   ]
  },
  {
   "cell_type": "code",
   "execution_count": 51,
   "id": "5fa980f2",
   "metadata": {},
   "outputs": [
    {
     "data": {
      "text/html": [
       "<div>\n",
       "<style scoped>\n",
       "    .dataframe tbody tr th:only-of-type {\n",
       "        vertical-align: middle;\n",
       "    }\n",
       "\n",
       "    .dataframe tbody tr th {\n",
       "        vertical-align: top;\n",
       "    }\n",
       "\n",
       "    .dataframe thead th {\n",
       "        text-align: right;\n",
       "    }\n",
       "</style>\n",
       "<table border=\"1\" class=\"dataframe\">\n",
       "  <thead>\n",
       "    <tr style=\"text-align: right;\">\n",
       "      <th></th>\n",
       "      <th>MOVIES</th>\n",
       "      <th>YEAR</th>\n",
       "      <th>GENRE</th>\n",
       "      <th>RATING</th>\n",
       "      <th>ONE-LINE</th>\n",
       "      <th>STARS</th>\n",
       "      <th>VOTES</th>\n",
       "      <th>RunTime</th>\n",
       "      <th>Gross</th>\n",
       "    </tr>\n",
       "  </thead>\n",
       "  <tbody>\n",
       "    <tr>\n",
       "      <th>0</th>\n",
       "      <td>Blood Red Sky</td>\n",
       "      <td>(2021)</td>\n",
       "      <td>\\nAction, Horror, Thriller</td>\n",
       "      <td>6.1</td>\n",
       "      <td>\\nA woman with a mysterious illness is forced ...</td>\n",
       "      <td>\\n    Director:\\nPeter Thorwarth\\n| \\n    Star...</td>\n",
       "      <td>21,062</td>\n",
       "      <td>121.0</td>\n",
       "      <td>NaN</td>\n",
       "    </tr>\n",
       "    <tr>\n",
       "      <th>1</th>\n",
       "      <td>Masters of the Universe: Revelation</td>\n",
       "      <td>(2021– )</td>\n",
       "      <td>\\nAnimation, Action, Adventure</td>\n",
       "      <td>5.0</td>\n",
       "      <td>\\nThe war for Eternia begins again in what may...</td>\n",
       "      <td>\\n            \\n    Stars:\\nChris Wood, \\nSara...</td>\n",
       "      <td>17,870</td>\n",
       "      <td>25.0</td>\n",
       "      <td>NaN</td>\n",
       "    </tr>\n",
       "    <tr>\n",
       "      <th>2</th>\n",
       "      <td>The Walking Dead</td>\n",
       "      <td>(2010–2022)</td>\n",
       "      <td>\\nDrama, Horror, Thriller</td>\n",
       "      <td>8.2</td>\n",
       "      <td>\\nSheriff Deputy Rick Grimes wakes up from a c...</td>\n",
       "      <td>\\n            \\n    Stars:\\nAndrew Lincoln, \\n...</td>\n",
       "      <td>885,805</td>\n",
       "      <td>44.0</td>\n",
       "      <td>NaN</td>\n",
       "    </tr>\n",
       "    <tr>\n",
       "      <th>3</th>\n",
       "      <td>Rick and Morty</td>\n",
       "      <td>(2013– )</td>\n",
       "      <td>\\nAnimation, Adventure, Comedy</td>\n",
       "      <td>9.2</td>\n",
       "      <td>\\nAn animated series that follows the exploits...</td>\n",
       "      <td>\\n            \\n    Stars:\\nJustin Roiland, \\n...</td>\n",
       "      <td>414,849</td>\n",
       "      <td>23.0</td>\n",
       "      <td>NaN</td>\n",
       "    </tr>\n",
       "    <tr>\n",
       "      <th>4</th>\n",
       "      <td>Army of Thieves</td>\n",
       "      <td>(2021)</td>\n",
       "      <td>\\nAction, Crime, Horror</td>\n",
       "      <td>NaN</td>\n",
       "      <td>\\nA prequel, set before the events of Army of ...</td>\n",
       "      <td>\\n    Director:\\nMatthias Schweighöfer\\n| \\n  ...</td>\n",
       "      <td>NaN</td>\n",
       "      <td>NaN</td>\n",
       "      <td>NaN</td>\n",
       "    </tr>\n",
       "  </tbody>\n",
       "</table>\n",
       "</div>"
      ],
      "text/plain": [
       "                                MOVIES         YEAR  \\\n",
       "0                        Blood Red Sky       (2021)   \n",
       "1  Masters of the Universe: Revelation     (2021– )   \n",
       "2                     The Walking Dead  (2010–2022)   \n",
       "3                       Rick and Morty     (2013– )   \n",
       "4                      Army of Thieves       (2021)   \n",
       "\n",
       "                                        GENRE  RATING  \\\n",
       "0      \\nAction, Horror, Thriller                 6.1   \n",
       "1  \\nAnimation, Action, Adventure                 5.0   \n",
       "2       \\nDrama, Horror, Thriller                 8.2   \n",
       "3  \\nAnimation, Adventure, Comedy                 9.2   \n",
       "4         \\nAction, Crime, Horror                 NaN   \n",
       "\n",
       "                                            ONE-LINE  \\\n",
       "0  \\nA woman with a mysterious illness is forced ...   \n",
       "1  \\nThe war for Eternia begins again in what may...   \n",
       "2  \\nSheriff Deputy Rick Grimes wakes up from a c...   \n",
       "3  \\nAn animated series that follows the exploits...   \n",
       "4  \\nA prequel, set before the events of Army of ...   \n",
       "\n",
       "                                               STARS    VOTES  RunTime Gross  \n",
       "0  \\n    Director:\\nPeter Thorwarth\\n| \\n    Star...   21,062    121.0   NaN  \n",
       "1  \\n            \\n    Stars:\\nChris Wood, \\nSara...   17,870     25.0   NaN  \n",
       "2  \\n            \\n    Stars:\\nAndrew Lincoln, \\n...  885,805     44.0   NaN  \n",
       "3  \\n            \\n    Stars:\\nJustin Roiland, \\n...  414,849     23.0   NaN  \n",
       "4  \\n    Director:\\nMatthias Schweighöfer\\n| \\n  ...      NaN      NaN   NaN  "
      ]
     },
     "execution_count": 51,
     "metadata": {},
     "output_type": "execute_result"
    }
   ],
   "source": [
    "df.head()"
   ]
  },
  {
   "cell_type": "code",
   "execution_count": 52,
   "id": "e79dc9ce",
   "metadata": {},
   "outputs": [
    {
     "name": "stdout",
     "output_type": "stream",
     "text": [
      "<class 'pandas.core.frame.DataFrame'>\n",
      "RangeIndex: 9999 entries, 0 to 9998\n",
      "Data columns (total 9 columns):\n",
      " #   Column    Non-Null Count  Dtype  \n",
      "---  ------    --------------  -----  \n",
      " 0   MOVIES    9999 non-null   object \n",
      " 1   YEAR      9355 non-null   object \n",
      " 2   GENRE     9919 non-null   object \n",
      " 3   RATING    8179 non-null   float64\n",
      " 4   ONE-LINE  9999 non-null   object \n",
      " 5   STARS     9999 non-null   object \n",
      " 6   VOTES     8179 non-null   object \n",
      " 7   RunTime   7041 non-null   float64\n",
      " 8   Gross     460 non-null    object \n",
      "dtypes: float64(2), object(7)\n",
      "memory usage: 703.2+ KB\n"
     ]
    }
   ],
   "source": [
    "df.info()"
   ]
  },
  {
   "cell_type": "code",
   "execution_count": 53,
   "id": "6594ccea",
   "metadata": {},
   "outputs": [
    {
     "data": {
      "text/plain": [
       "['YEAR', 'GENRE', 'RATING', 'VOTES', 'RunTime', 'Gross']"
      ]
     },
     "execution_count": 53,
     "metadata": {},
     "output_type": "execute_result"
    }
   ],
   "source": [
    "miss_val = []\n",
    "\n",
    "[miss_val.append(i) for i in df.columns if any(df[i].isnull())]\n",
    "\n",
    "miss_val"
   ]
  },
  {
   "cell_type": "code",
   "execution_count": 54,
   "id": "293f823d",
   "metadata": {},
   "outputs": [
    {
     "data": {
      "text/plain": [
       "(9999, 9)"
      ]
     },
     "execution_count": 54,
     "metadata": {},
     "output_type": "execute_result"
    }
   ],
   "source": [
    "df.shape"
   ]
  },
  {
   "cell_type": "code",
   "execution_count": 55,
   "id": "58f2d8e4",
   "metadata": {},
   "outputs": [],
   "source": [
    "def first_looking(col):\n",
    "    print(\"column name    : \", col)\n",
    "    print(\"--------------------------------\")\n",
    "    print(\"per_of_nulls   : \", \"%\", round(df[col].isnull().sum()/df.shape[0]*100, 2))\n",
    "    print(\"num_of_nulls   : \", df[col].isnull().sum())\n",
    "    print(\"num_of_uniques : \", df[col].nunique())\n",
    "    print(df[col].value_counts(dropna = False))"
   ]
  },
  {
   "cell_type": "code",
   "execution_count": 56,
   "id": "39d59175",
   "metadata": {},
   "outputs": [
    {
     "name": "stdout",
     "output_type": "stream",
     "text": [
      "column name    :  YEAR\n",
      "--------------------------------\n",
      "per_of_nulls   :  % 6.44\n",
      "num_of_nulls   :  644\n",
      "num_of_uniques :  438\n",
      "(2020– )        892\n",
      "(2021– )        658\n",
      "NaN             644\n",
      "(2020)          639\n",
      "(2019– )        549\n",
      "               ... \n",
      "(1981–1989)       1\n",
      "(III) (2016)      1\n",
      "(1995–2001)       1\n",
      "(2000–2014)       1\n",
      "(1985– )          1\n",
      "Name: YEAR, Length: 439, dtype: int64\n"
     ]
    }
   ],
   "source": [
    "first_looking(\"YEAR\")"
   ]
  },
  {
   "cell_type": "code",
   "execution_count": 47,
   "id": "776d13e6",
   "metadata": {},
   "outputs": [
    {
     "name": "stdout",
     "output_type": "stream",
     "text": [
      "column name    :  MOVIES\n",
      "--------------------------------\n",
      "per_of_nulls   :  % 0.0\n",
      "num_of_nulls   :  0\n",
      "num_of_uniques :  6817\n",
      " Bleach: Burîchi                         65\n",
      " Mighty Little Bheem                     64\n",
      " Avatar: The Last Airbender              61\n",
      " La Reina de Indias y el Conquistador    60\n",
      " Dexter                                  48\n",
      "                                         ..\n",
      "Ashby                                     1\n",
      "Syucheu                                   1\n",
      "#Realityhigh                              1\n",
      "Eobiseu                                   1\n",
      " Heart of Invictus                        1\n",
      "Name: MOVIES, Length: 6817, dtype: int64\n"
     ]
    }
   ],
   "source": [
    "first_looking(\"MOVIES\")"
   ]
  },
  {
   "cell_type": "code",
   "execution_count": 10,
   "id": "ae44d908",
   "metadata": {},
   "outputs": [
    {
     "data": {
      "text/html": [
       "<div>\n",
       "<style scoped>\n",
       "    .dataframe tbody tr th:only-of-type {\n",
       "        vertical-align: middle;\n",
       "    }\n",
       "\n",
       "    .dataframe tbody tr th {\n",
       "        vertical-align: top;\n",
       "    }\n",
       "\n",
       "    .dataframe thead th {\n",
       "        text-align: right;\n",
       "    }\n",
       "</style>\n",
       "<table border=\"1\" class=\"dataframe\">\n",
       "  <thead>\n",
       "    <tr style=\"text-align: right;\">\n",
       "      <th></th>\n",
       "      <th>MOVIES</th>\n",
       "      <th>YEAR</th>\n",
       "      <th>GENRE</th>\n",
       "      <th>RATING</th>\n",
       "      <th>ONE-LINE</th>\n",
       "      <th>STARS</th>\n",
       "      <th>VOTES</th>\n",
       "      <th>RunTime</th>\n",
       "      <th>Gross</th>\n",
       "    </tr>\n",
       "  </thead>\n",
       "  <tbody>\n",
       "    <tr>\n",
       "      <th>2311</th>\n",
       "      <td>#Realityhigh</td>\n",
       "      <td>(2017)</td>\n",
       "      <td>\\nComedy, Drama, Romance</td>\n",
       "      <td>5.2</td>\n",
       "      <td>\\nHigh-achieving high-school senior Dani Barne...</td>\n",
       "      <td>\\n    Director:\\nFernando Lebrija\\n| \\n    Sta...</td>\n",
       "      <td>5,947</td>\n",
       "      <td>99.0</td>\n",
       "      <td>NaN</td>\n",
       "    </tr>\n",
       "  </tbody>\n",
       "</table>\n",
       "</div>"
      ],
      "text/plain": [
       "            MOVIES    YEAR                                 GENRE  RATING  \\\n",
       "2311  #Realityhigh  (2017)  \\nComedy, Drama, Romance                 5.2   \n",
       "\n",
       "                                               ONE-LINE  \\\n",
       "2311  \\nHigh-achieving high-school senior Dani Barne...   \n",
       "\n",
       "                                                  STARS  VOTES  RunTime Gross  \n",
       "2311  \\n    Director:\\nFernando Lebrija\\n| \\n    Sta...  5,947     99.0   NaN  "
      ]
     },
     "execution_count": 10,
     "metadata": {},
     "output_type": "execute_result"
    }
   ],
   "source": [
    "df[df.MOVIES == '#Realityhigh']"
   ]
  },
  {
   "cell_type": "code",
   "execution_count": 13,
   "id": "1cd6bfef",
   "metadata": {},
   "outputs": [
    {
     "ename": "ValueError",
     "evalue": "Columns must be same length as key",
     "output_type": "error",
     "traceback": [
      "\u001b[1;31m---------------------------------------------------------------------------\u001b[0m",
      "\u001b[1;31mValueError\u001b[0m                                Traceback (most recent call last)",
      "Input \u001b[1;32mIn [13]\u001b[0m, in \u001b[0;36m<cell line: 1>\u001b[1;34m()\u001b[0m\n\u001b[1;32m----> 1\u001b[0m df\u001b[38;5;241m.\u001b[39mMOVIES\u001b[38;5;241m=\u001b[39mdf[df\u001b[38;5;241m.\u001b[39mMOVIES \u001b[38;5;241m==\u001b[39m \u001b[38;5;124m'\u001b[39m\u001b[38;5;124m#Realityhigh\u001b[39m\u001b[38;5;124m'\u001b[39m]\u001b[38;5;241m.\u001b[39mreplace(\u001b[38;5;124m'\u001b[39m\u001b[38;5;124m#\u001b[39m\u001b[38;5;124m'\u001b[39m,\u001b[38;5;124m'\u001b[39m\u001b[38;5;124m \u001b[39m\u001b[38;5;124m'\u001b[39m)\n",
      "File \u001b[1;32m~\\anaconda3\\lib\\site-packages\\pandas\\core\\generic.py:5516\u001b[0m, in \u001b[0;36mNDFrame.__setattr__\u001b[1;34m(self, name, value)\u001b[0m\n\u001b[0;32m   5514\u001b[0m     \u001b[38;5;28mobject\u001b[39m\u001b[38;5;241m.\u001b[39m\u001b[38;5;21m__setattr__\u001b[39m(\u001b[38;5;28mself\u001b[39m, name, value)\n\u001b[0;32m   5515\u001b[0m \u001b[38;5;28;01melif\u001b[39;00m name \u001b[38;5;129;01min\u001b[39;00m \u001b[38;5;28mself\u001b[39m\u001b[38;5;241m.\u001b[39m_info_axis:\n\u001b[1;32m-> 5516\u001b[0m     \u001b[38;5;28mself\u001b[39m[name] \u001b[38;5;241m=\u001b[39m value\n\u001b[0;32m   5517\u001b[0m \u001b[38;5;28;01melse\u001b[39;00m:\n\u001b[0;32m   5518\u001b[0m     \u001b[38;5;28mobject\u001b[39m\u001b[38;5;241m.\u001b[39m\u001b[38;5;21m__setattr__\u001b[39m(\u001b[38;5;28mself\u001b[39m, name, value)\n",
      "File \u001b[1;32m~\\anaconda3\\lib\\site-packages\\pandas\\core\\frame.py:3602\u001b[0m, in \u001b[0;36mDataFrame.__setitem__\u001b[1;34m(self, key, value)\u001b[0m\n\u001b[0;32m   3600\u001b[0m     \u001b[38;5;28mself\u001b[39m\u001b[38;5;241m.\u001b[39m_setitem_array(key, value)\n\u001b[0;32m   3601\u001b[0m \u001b[38;5;28;01melif\u001b[39;00m \u001b[38;5;28misinstance\u001b[39m(value, DataFrame):\n\u001b[1;32m-> 3602\u001b[0m     \u001b[38;5;28;43mself\u001b[39;49m\u001b[38;5;241;43m.\u001b[39;49m\u001b[43m_set_item_frame_value\u001b[49m\u001b[43m(\u001b[49m\u001b[43mkey\u001b[49m\u001b[43m,\u001b[49m\u001b[43m \u001b[49m\u001b[43mvalue\u001b[49m\u001b[43m)\u001b[49m\n\u001b[0;32m   3603\u001b[0m \u001b[38;5;28;01melif\u001b[39;00m (\n\u001b[0;32m   3604\u001b[0m     is_list_like(value)\n\u001b[0;32m   3605\u001b[0m     \u001b[38;5;129;01mand\u001b[39;00m \u001b[38;5;129;01mnot\u001b[39;00m \u001b[38;5;28mself\u001b[39m\u001b[38;5;241m.\u001b[39mcolumns\u001b[38;5;241m.\u001b[39mis_unique\n\u001b[0;32m   3606\u001b[0m     \u001b[38;5;129;01mand\u001b[39;00m \u001b[38;5;241m1\u001b[39m \u001b[38;5;241m<\u001b[39m \u001b[38;5;28mlen\u001b[39m(\u001b[38;5;28mself\u001b[39m\u001b[38;5;241m.\u001b[39mcolumns\u001b[38;5;241m.\u001b[39mget_indexer_for([key])) \u001b[38;5;241m==\u001b[39m \u001b[38;5;28mlen\u001b[39m(value)\n\u001b[0;32m   3607\u001b[0m ):\n\u001b[0;32m   3608\u001b[0m     \u001b[38;5;66;03m# Column to set is duplicated\u001b[39;00m\n\u001b[0;32m   3609\u001b[0m     \u001b[38;5;28mself\u001b[39m\u001b[38;5;241m.\u001b[39m_setitem_array([key], value)\n",
      "File \u001b[1;32m~\\anaconda3\\lib\\site-packages\\pandas\\core\\frame.py:3729\u001b[0m, in \u001b[0;36mDataFrame._set_item_frame_value\u001b[1;34m(self, key, value)\u001b[0m\n\u001b[0;32m   3727\u001b[0m len_cols \u001b[38;5;241m=\u001b[39m \u001b[38;5;241m1\u001b[39m \u001b[38;5;28;01mif\u001b[39;00m is_scalar(cols) \u001b[38;5;28;01melse\u001b[39;00m \u001b[38;5;28mlen\u001b[39m(cols)\n\u001b[0;32m   3728\u001b[0m \u001b[38;5;28;01mif\u001b[39;00m len_cols \u001b[38;5;241m!=\u001b[39m \u001b[38;5;28mlen\u001b[39m(value\u001b[38;5;241m.\u001b[39mcolumns):\n\u001b[1;32m-> 3729\u001b[0m     \u001b[38;5;28;01mraise\u001b[39;00m \u001b[38;5;167;01mValueError\u001b[39;00m(\u001b[38;5;124m\"\u001b[39m\u001b[38;5;124mColumns must be same length as key\u001b[39m\u001b[38;5;124m\"\u001b[39m)\n\u001b[0;32m   3731\u001b[0m \u001b[38;5;66;03m# align right-hand-side columns if self.columns\u001b[39;00m\n\u001b[0;32m   3732\u001b[0m \u001b[38;5;66;03m# is multi-index and self[key] is a sub-frame\u001b[39;00m\n\u001b[0;32m   3733\u001b[0m \u001b[38;5;28;01mif\u001b[39;00m \u001b[38;5;28misinstance\u001b[39m(\u001b[38;5;28mself\u001b[39m\u001b[38;5;241m.\u001b[39mcolumns, MultiIndex) \u001b[38;5;129;01mand\u001b[39;00m \u001b[38;5;28misinstance\u001b[39m(\n\u001b[0;32m   3734\u001b[0m     loc, (\u001b[38;5;28mslice\u001b[39m, Series, np\u001b[38;5;241m.\u001b[39mndarray, Index)\n\u001b[0;32m   3735\u001b[0m ):\n",
      "\u001b[1;31mValueError\u001b[0m: Columns must be same length as key"
     ]
    }
   ],
   "source": [
    "df.MOVIES=df[df.MOVIES == '#Realityhigh'].replace('#',' ')"
   ]
  },
  {
   "cell_type": "code",
   "execution_count": 14,
   "id": "79b2b2ed",
   "metadata": {},
   "outputs": [
    {
     "data": {
      "text/plain": [
       "3879                        Layla M.\n",
       "6693               Never Have I Ever\n",
       "2180           La dictadura perfecta\n",
       "1090                     Delhi Crime\n",
       "3975                       FirstBorn\n",
       "                    ...             \n",
       "8194                     Hit and Run\n",
       "5491            Tuintje in mijn hart\n",
       "1713       Doshinamnyeoui Sarangbeob\n",
       "1842    Put Your Head on My Shoulder\n",
       "1912     The Knight Before Christmas\n",
       "Name: MOVIES, Length: 100, dtype: object"
      ]
     },
     "execution_count": 14,
     "metadata": {},
     "output_type": "execute_result"
    }
   ],
   "source": [
    "df.MOVIES.sample(100)"
   ]
  },
  {
   "cell_type": "code",
   "execution_count": 15,
   "id": "574b5d2e",
   "metadata": {},
   "outputs": [
    {
     "data": {
      "text/plain": [
       "(2020– )        892\n",
       "(2021– )        658\n",
       "NaN             644\n",
       "(2020)          639\n",
       "(2019– )        549\n",
       "               ... \n",
       "(1981–1989)       1\n",
       "(III) (2016)      1\n",
       "(1995–2001)       1\n",
       "(2000–2014)       1\n",
       "(1985– )          1\n",
       "Name: YEAR, Length: 439, dtype: int64"
      ]
     },
     "execution_count": 15,
     "metadata": {},
     "output_type": "execute_result"
    }
   ],
   "source": [
    "df.YEAR.value_counts(dropna = False)"
   ]
  },
  {
   "cell_type": "code",
   "execution_count": 16,
   "id": "db06f17b",
   "metadata": {},
   "outputs": [
    {
     "data": {
      "text/plain": [
       "\\nComedy                                      852\n",
       "\\nAnimation, Action, Adventure                693\n",
       "\\nDrama                                       562\n",
       "\\nDocumentary                                 498\n",
       "\\nCrime, Drama, Mystery                       336\n",
       "                                             ... \n",
       "\\nAction, Drama, Western                        1\n",
       "\\nComedy, Horror, Talk-Show                     1\n",
       "\\nFamily, Music, Romance                        1\n",
       "\\nAnimation, Adventure, Horror                  1\n",
       "\\nDocumentary, Crime, Thriller                  1\n",
       "Name: GENRE, Length: 511, dtype: int64"
      ]
     },
     "execution_count": 16,
     "metadata": {},
     "output_type": "execute_result"
    }
   ],
   "source": [
    "df.GENRE.value_counts(dropna=False)"
   ]
  },
  {
   "cell_type": "code",
   "execution_count": 17,
   "id": "2c95f526",
   "metadata": {},
   "outputs": [
    {
     "data": {
      "text/plain": [
       "NaN    1820\n",
       "7.2     331\n",
       "7.6     309\n",
       "7.5     309\n",
       "7.4     300\n",
       "       ... \n",
       "2.2       1\n",
       "1.1       1\n",
       "2.0       1\n",
       "2.4       1\n",
       "1.8       1\n",
       "Name: RATING, Length: 83, dtype: int64"
      ]
     },
     "execution_count": 17,
     "metadata": {},
     "output_type": "execute_result"
    }
   ],
   "source": [
    "df.RATING.value_counts(dropna=False)"
   ]
  },
  {
   "cell_type": "code",
   "execution_count": 18,
   "id": "3e277d0e",
   "metadata": {},
   "outputs": [
    {
     "data": {
      "text/plain": [
       "Index(['MOVIES', 'YEAR', 'GENRE', 'RATING', 'ONE-LINE', 'STARS', 'VOTES',\n",
       "       'RunTime', 'Gross'],\n",
       "      dtype='object')"
      ]
     },
     "execution_count": 18,
     "metadata": {},
     "output_type": "execute_result"
    }
   ],
   "source": [
    "df.columns"
   ]
  },
  {
   "cell_type": "code",
   "execution_count": 19,
   "id": "82105480",
   "metadata": {},
   "outputs": [],
   "source": [
    "df['one_line'] = df['ONE-LINE']\n",
    "df.drop('ONE-LINE', axis=1, inplace=True)"
   ]
  },
  {
   "cell_type": "code",
   "execution_count": 20,
   "id": "f9cb7e28",
   "metadata": {},
   "outputs": [
    {
     "data": {
      "text/html": [
       "<div>\n",
       "<style scoped>\n",
       "    .dataframe tbody tr th:only-of-type {\n",
       "        vertical-align: middle;\n",
       "    }\n",
       "\n",
       "    .dataframe tbody tr th {\n",
       "        vertical-align: top;\n",
       "    }\n",
       "\n",
       "    .dataframe thead th {\n",
       "        text-align: right;\n",
       "    }\n",
       "</style>\n",
       "<table border=\"1\" class=\"dataframe\">\n",
       "  <thead>\n",
       "    <tr style=\"text-align: right;\">\n",
       "      <th></th>\n",
       "      <th>MOVIES</th>\n",
       "      <th>YEAR</th>\n",
       "      <th>GENRE</th>\n",
       "      <th>RATING</th>\n",
       "      <th>STARS</th>\n",
       "      <th>VOTES</th>\n",
       "      <th>RunTime</th>\n",
       "      <th>Gross</th>\n",
       "      <th>one_line</th>\n",
       "    </tr>\n",
       "  </thead>\n",
       "  <tbody>\n",
       "    <tr>\n",
       "      <th>0</th>\n",
       "      <td>Blood Red Sky</td>\n",
       "      <td>(2021)</td>\n",
       "      <td>\\nAction, Horror, Thriller</td>\n",
       "      <td>6.1</td>\n",
       "      <td>\\n    Director:\\nPeter Thorwarth\\n| \\n    Star...</td>\n",
       "      <td>21,062</td>\n",
       "      <td>121.0</td>\n",
       "      <td>NaN</td>\n",
       "      <td>\\nA woman with a mysterious illness is forced ...</td>\n",
       "    </tr>\n",
       "    <tr>\n",
       "      <th>1</th>\n",
       "      <td>Masters of the Universe: Revelation</td>\n",
       "      <td>(2021– )</td>\n",
       "      <td>\\nAnimation, Action, Adventure</td>\n",
       "      <td>5.0</td>\n",
       "      <td>\\n            \\n    Stars:\\nChris Wood, \\nSara...</td>\n",
       "      <td>17,870</td>\n",
       "      <td>25.0</td>\n",
       "      <td>NaN</td>\n",
       "      <td>\\nThe war for Eternia begins again in what may...</td>\n",
       "    </tr>\n",
       "    <tr>\n",
       "      <th>2</th>\n",
       "      <td>The Walking Dead</td>\n",
       "      <td>(2010–2022)</td>\n",
       "      <td>\\nDrama, Horror, Thriller</td>\n",
       "      <td>8.2</td>\n",
       "      <td>\\n            \\n    Stars:\\nAndrew Lincoln, \\n...</td>\n",
       "      <td>885,805</td>\n",
       "      <td>44.0</td>\n",
       "      <td>NaN</td>\n",
       "      <td>\\nSheriff Deputy Rick Grimes wakes up from a c...</td>\n",
       "    </tr>\n",
       "    <tr>\n",
       "      <th>3</th>\n",
       "      <td>Rick and Morty</td>\n",
       "      <td>(2013– )</td>\n",
       "      <td>\\nAnimation, Adventure, Comedy</td>\n",
       "      <td>9.2</td>\n",
       "      <td>\\n            \\n    Stars:\\nJustin Roiland, \\n...</td>\n",
       "      <td>414,849</td>\n",
       "      <td>23.0</td>\n",
       "      <td>NaN</td>\n",
       "      <td>\\nAn animated series that follows the exploits...</td>\n",
       "    </tr>\n",
       "    <tr>\n",
       "      <th>4</th>\n",
       "      <td>Army of Thieves</td>\n",
       "      <td>(2021)</td>\n",
       "      <td>\\nAction, Crime, Horror</td>\n",
       "      <td>NaN</td>\n",
       "      <td>\\n    Director:\\nMatthias Schweighöfer\\n| \\n  ...</td>\n",
       "      <td>NaN</td>\n",
       "      <td>NaN</td>\n",
       "      <td>NaN</td>\n",
       "      <td>\\nA prequel, set before the events of Army of ...</td>\n",
       "    </tr>\n",
       "  </tbody>\n",
       "</table>\n",
       "</div>"
      ],
      "text/plain": [
       "                                MOVIES         YEAR  \\\n",
       "0                        Blood Red Sky       (2021)   \n",
       "1  Masters of the Universe: Revelation     (2021– )   \n",
       "2                     The Walking Dead  (2010–2022)   \n",
       "3                       Rick and Morty     (2013– )   \n",
       "4                      Army of Thieves       (2021)   \n",
       "\n",
       "                                        GENRE  RATING  \\\n",
       "0      \\nAction, Horror, Thriller                 6.1   \n",
       "1  \\nAnimation, Action, Adventure                 5.0   \n",
       "2       \\nDrama, Horror, Thriller                 8.2   \n",
       "3  \\nAnimation, Adventure, Comedy                 9.2   \n",
       "4         \\nAction, Crime, Horror                 NaN   \n",
       "\n",
       "                                               STARS    VOTES  RunTime Gross  \\\n",
       "0  \\n    Director:\\nPeter Thorwarth\\n| \\n    Star...   21,062    121.0   NaN   \n",
       "1  \\n            \\n    Stars:\\nChris Wood, \\nSara...   17,870     25.0   NaN   \n",
       "2  \\n            \\n    Stars:\\nAndrew Lincoln, \\n...  885,805     44.0   NaN   \n",
       "3  \\n            \\n    Stars:\\nJustin Roiland, \\n...  414,849     23.0   NaN   \n",
       "4  \\n    Director:\\nMatthias Schweighöfer\\n| \\n  ...      NaN      NaN   NaN   \n",
       "\n",
       "                                            one_line  \n",
       "0  \\nA woman with a mysterious illness is forced ...  \n",
       "1  \\nThe war for Eternia begins again in what may...  \n",
       "2  \\nSheriff Deputy Rick Grimes wakes up from a c...  \n",
       "3  \\nAn animated series that follows the exploits...  \n",
       "4  \\nA prequel, set before the events of Army of ...  "
      ]
     },
     "execution_count": 20,
     "metadata": {},
     "output_type": "execute_result"
    }
   ],
   "source": [
    "df.head()"
   ]
  },
  {
   "cell_type": "code",
   "execution_count": 21,
   "id": "012cea7a",
   "metadata": {},
   "outputs": [
    {
     "data": {
      "text/plain": [
       "\\nAdd a Plot\\n                                                                                                                                                                                                                                     1265\n",
       "\\nThe Buddis bounce, spin, glide - and giggle. - through their magical world, learning new things and sharing the joy of friendship.                                                                                                                  8\n",
       "\\nWith kindness, curiosity and childlike wonder, five best friends explore their colourful world and find the extraordinary in everyday things.                                                                                                       8\n",
       "\\nPlot under wraps.                                                                                                                                                                                                                                   7\n",
       "\\nPlot unknown.                                                                                                                                                                                                                                       7\n",
       "                                                                                                                                                                                                                                                   ... \n",
       "\\nDeniz, an acclaimed author, is writing a book about his family and friends. He asks Orhan for critics. The day Orhan came to Istanbul from London, Deniz disappears. Orhan, Deniz's friend Neval and Deniz's lover Yusuf tries to find Deniz.       1\n",
       "\\nWielding a light-up sword through the dark corners of a high school, a nurse with an unusual gift protects students from monsters only she can see.                                                                                                 1\n",
       "\\n\"The Good Bandit\" introduces the new narco-comedy genre that, for the first time, presents a drug lord who repents of the choices he has made, willing to change his life away from the ...                See full summary »\\n                     1\n",
       "\\nTraveling to the exotic kingdom of Siam, English schoolteacher Anna Leonowens soon discovers that her most difficult challenge is the stubborn, imperious King himself.                                                                             1\n",
       "\\nAs Paxton's mixed messages have Devi questioning herself, the upcoming winter dance offers a chance to determine where she stands- and what she needs.                                                                                              1\n",
       "Name: one_line, Length: 8688, dtype: int64"
      ]
     },
     "execution_count": 21,
     "metadata": {},
     "output_type": "execute_result"
    }
   ],
   "source": [
    "df.one_line.value_counts(dropna=False)"
   ]
  },
  {
   "cell_type": "code",
   "execution_count": 22,
   "id": "90d8c650",
   "metadata": {},
   "outputs": [
    {
     "data": {
      "text/plain": [
       "\\n                                                                                                                                       456\n",
       "\\n            \\n    Stars:\\nEmmanuel Esparza, \\nEssined Aponte, \\nManuel Navarro, \\nÁlvaro Benet\\n                                        58\n",
       "\\n    Directors:\\nRajiv Chilaka, \\nKrishna Mohan Chintapatla\\n                                                                            49\n",
       "\\n    Director:\\nOliver Driver\\n| \\n    Stars:\\nRorrie D. Travis, \\nJasmeet Baduwalia, \\nJacqueline Scislowski, \\nAbraham Rodriguez\\n     21\n",
       "\\n            \\n    Star:\\nMichael J. Woodard\\n                                                                                           19\n",
       "                                                                                                                                        ... \n",
       "\\n            \\n    Stars:\\nDong-wook Kim, \\nMoon Ga-young, \\nSeul-gi Kim, \\nJong-Hoon Yoon\\n                                              1\n",
       "\\n            \\n    Stars:\\nCharles Demers, \\nRebecca Husain, \\nLili Beaudoin, \\nAshleigh Ball\\n                                           1\n",
       "\\n            \\n    Stars:\\nJohn Paul Tremblay, \\nRobb Wells, \\nMike Smith, \\nTom Mayhue\\n                                                 1\n",
       "\\n            \\n    Stars:\\nSu Meng Di, \\nDai Yun Fan, \\nCharles Lin, \\nJasper Liu\\n                                                       1\n",
       "\\n    Director:\\nJovanka Vuckovic\\n| \\n    Stars:\\nMorgan Taylor Campbell, \\nJennifer Cheon Garcia, \\nIñaki Godoy, \\nRhianna Jagpal\\n      1\n",
       "Name: STARS, Length: 7877, dtype: int64"
      ]
     },
     "execution_count": 22,
     "metadata": {},
     "output_type": "execute_result"
    }
   ],
   "source": [
    "df.STARS.value_counts(dropna=False)"
   ]
  },
  {
   "cell_type": "code",
   "execution_count": 23,
   "id": "f5173d8c",
   "metadata": {},
   "outputs": [
    {
     "data": {
      "text/plain": [
       "NaN       1820\n",
       "7           35\n",
       "30          31\n",
       "26          28\n",
       "32          28\n",
       "          ... \n",
       "1,368        1\n",
       "2,437        1\n",
       "8,271        1\n",
       "10,883       1\n",
       "911          1\n",
       "Name: VOTES, Length: 4130, dtype: int64"
      ]
     },
     "execution_count": 23,
     "metadata": {},
     "output_type": "execute_result"
    }
   ],
   "source": [
    "df.VOTES.value_counts(dropna=False)"
   ]
  },
  {
   "cell_type": "code",
   "execution_count": 24,
   "id": "aa371bc4",
   "metadata": {},
   "outputs": [
    {
     "data": {
      "text/plain": [
       "NaN      2958\n",
       "24.0      354\n",
       "60.0      299\n",
       "30.0      219\n",
       "23.0      183\n",
       "         ... \n",
       "542.0       1\n",
       "629.0       1\n",
       "498.0       1\n",
       "189.0       1\n",
       "165.0       1\n",
       "Name: RunTime, Length: 262, dtype: int64"
      ]
     },
     "execution_count": 24,
     "metadata": {},
     "output_type": "execute_result"
    }
   ],
   "source": [
    "df.RunTime.value_counts(dropna=False)"
   ]
  },
  {
   "cell_type": "code",
   "execution_count": 25,
   "id": "f3e95d9d",
   "metadata": {},
   "outputs": [
    {
     "data": {
      "text/plain": [
       "NaN        9539\n",
       "$0.01M       22\n",
       "$0.02M       16\n",
       "$0.00M       15\n",
       "$0.03M       10\n",
       "           ... \n",
       "$44.82M       1\n",
       "$21.36M       1\n",
       "$54.76M       1\n",
       "$77.22M       1\n",
       "$10.40M       1\n",
       "Name: Gross, Length: 333, dtype: int64"
      ]
     },
     "execution_count": 25,
     "metadata": {},
     "output_type": "execute_result"
    }
   ],
   "source": [
    "df.Gross.value_counts(dropna=False)"
   ]
  },
  {
   "cell_type": "code",
   "execution_count": 26,
   "id": "bb1cde5e",
   "metadata": {},
   "outputs": [
    {
     "name": "stdout",
     "output_type": "stream",
     "text": [
      "<class 'pandas.core.frame.DataFrame'>\n",
      "RangeIndex: 9999 entries, 0 to 9998\n",
      "Data columns (total 9 columns):\n",
      " #   Column    Non-Null Count  Dtype  \n",
      "---  ------    --------------  -----  \n",
      " 0   MOVIES    9999 non-null   object \n",
      " 1   YEAR      9355 non-null   object \n",
      " 2   GENRE     9919 non-null   object \n",
      " 3   RATING    8179 non-null   float64\n",
      " 4   STARS     9999 non-null   object \n",
      " 5   VOTES     8179 non-null   object \n",
      " 6   RunTime   7041 non-null   float64\n",
      " 7   Gross     460 non-null    object \n",
      " 8   one_line  9999 non-null   object \n",
      "dtypes: float64(2), object(7)\n",
      "memory usage: 703.2+ KB\n"
     ]
    }
   ],
   "source": [
    "df.info()"
   ]
  },
  {
   "cell_type": "code",
   "execution_count": 27,
   "id": "fb9d645f",
   "metadata": {},
   "outputs": [
    {
     "data": {
      "text/html": [
       "<div>\n",
       "<style scoped>\n",
       "    .dataframe tbody tr th:only-of-type {\n",
       "        vertical-align: middle;\n",
       "    }\n",
       "\n",
       "    .dataframe tbody tr th {\n",
       "        vertical-align: top;\n",
       "    }\n",
       "\n",
       "    .dataframe thead th {\n",
       "        text-align: right;\n",
       "    }\n",
       "</style>\n",
       "<table border=\"1\" class=\"dataframe\">\n",
       "  <thead>\n",
       "    <tr style=\"text-align: right;\">\n",
       "      <th></th>\n",
       "      <th>count</th>\n",
       "      <th>mean</th>\n",
       "      <th>std</th>\n",
       "      <th>min</th>\n",
       "      <th>25%</th>\n",
       "      <th>50%</th>\n",
       "      <th>75%</th>\n",
       "      <th>max</th>\n",
       "    </tr>\n",
       "  </thead>\n",
       "  <tbody>\n",
       "    <tr>\n",
       "      <th>RATING</th>\n",
       "      <td>8179.0</td>\n",
       "      <td>6.921176</td>\n",
       "      <td>1.220232</td>\n",
       "      <td>1.1</td>\n",
       "      <td>6.2</td>\n",
       "      <td>7.1</td>\n",
       "      <td>7.8</td>\n",
       "      <td>9.9</td>\n",
       "    </tr>\n",
       "    <tr>\n",
       "      <th>RunTime</th>\n",
       "      <td>7041.0</td>\n",
       "      <td>68.688539</td>\n",
       "      <td>47.258056</td>\n",
       "      <td>1.0</td>\n",
       "      <td>36.0</td>\n",
       "      <td>60.0</td>\n",
       "      <td>95.0</td>\n",
       "      <td>853.0</td>\n",
       "    </tr>\n",
       "  </tbody>\n",
       "</table>\n",
       "</div>"
      ],
      "text/plain": [
       "          count       mean        std  min   25%   50%   75%    max\n",
       "RATING   8179.0   6.921176   1.220232  1.1   6.2   7.1   7.8    9.9\n",
       "RunTime  7041.0  68.688539  47.258056  1.0  36.0  60.0  95.0  853.0"
      ]
     },
     "execution_count": 27,
     "metadata": {},
     "output_type": "execute_result"
    }
   ],
   "source": [
    "df.describe().T"
   ]
  },
  {
   "cell_type": "code",
   "execution_count": 28,
   "id": "4423e7a0",
   "metadata": {},
   "outputs": [
    {
     "data": {
      "text/plain": [
       "(9999, 9)"
      ]
     },
     "execution_count": 28,
     "metadata": {},
     "output_type": "execute_result"
    }
   ],
   "source": [
    "df.shape"
   ]
  },
  {
   "cell_type": "code",
   "execution_count": 29,
   "id": "b80c50e5",
   "metadata": {},
   "outputs": [
    {
     "data": {
      "text/plain": [
       "MOVIES       0.000000\n",
       "YEAR         6.440644\n",
       "GENRE        0.800080\n",
       "RATING      18.201820\n",
       "STARS        0.000000\n",
       "VOTES       18.201820\n",
       "RunTime     29.582958\n",
       "Gross       95.399540\n",
       "one_line     0.000000\n",
       "dtype: float64"
      ]
     },
     "execution_count": 29,
     "metadata": {},
     "output_type": "execute_result"
    }
   ],
   "source": [
    "df.isnull().sum()*100/df.shape[0]"
   ]
  },
  {
   "cell_type": "code",
   "execution_count": 30,
   "id": "d8fef21c",
   "metadata": {},
   "outputs": [],
   "source": [
    "def show_null(df, limit):\n",
    "    missing = df.isnull().sum()*100/df.shape[0]\n",
    "    return missing.loc[lambda x: x > limit]\n",
    "\n",
    "def percentage_null(serials):\n",
    "    return serials.isnull().sum()/serials.shape[0]*100\n"
   ]
  },
  {
   "cell_type": "code",
   "execution_count": 31,
   "id": "2d20c771",
   "metadata": {},
   "outputs": [
    {
     "data": {
      "text/plain": [
       "Gross    95.39954\n",
       "dtype: float64"
      ]
     },
     "execution_count": 31,
     "metadata": {},
     "output_type": "execute_result"
    }
   ],
   "source": [
    "show_null(df, 92)"
   ]
  },
  {
   "cell_type": "code",
   "execution_count": 32,
   "id": "4f29de75",
   "metadata": {},
   "outputs": [],
   "source": [
    "df.drop('Gross', axis=1, inplace=True)"
   ]
  },
  {
   "cell_type": "code",
   "execution_count": 33,
   "id": "d3235df2",
   "metadata": {},
   "outputs": [
    {
     "name": "stdout",
     "output_type": "stream",
     "text": [
      "<class 'pandas.core.frame.DataFrame'>\n",
      "RangeIndex: 9999 entries, 0 to 9998\n",
      "Data columns (total 8 columns):\n",
      " #   Column    Non-Null Count  Dtype  \n",
      "---  ------    --------------  -----  \n",
      " 0   MOVIES    9999 non-null   object \n",
      " 1   YEAR      9355 non-null   object \n",
      " 2   GENRE     9919 non-null   object \n",
      " 3   RATING    8179 non-null   float64\n",
      " 4   STARS     9999 non-null   object \n",
      " 5   VOTES     8179 non-null   object \n",
      " 6   RunTime   7041 non-null   float64\n",
      " 7   one_line  9999 non-null   object \n",
      "dtypes: float64(2), object(6)\n",
      "memory usage: 625.1+ KB\n"
     ]
    }
   ],
   "source": [
    "df.info()"
   ]
  },
  {
   "cell_type": "code",
   "execution_count": 34,
   "id": "fb2ed026",
   "metadata": {},
   "outputs": [
    {
     "data": {
      "text/plain": [
       "0           Action, Horror, Thriller            \n",
       "1       Animation, Action, Adventure            \n",
       "2            Drama, Horror, Thriller            \n",
       "3       Animation, Adventure, Comedy            \n",
       "4              Action, Crime, Horror            \n",
       "                          ...                   \n",
       "9994       Adventure, Drama, Fantasy            \n",
       "9995    Animation, Action, Adventure            \n",
       "9996              Documentary, Sport            \n",
       "9997       Adventure, Drama, Fantasy            \n",
       "9998       Adventure, Drama, Fantasy            \n",
       "Name: GENRE, Length: 9999, dtype: object"
      ]
     },
     "execution_count": 34,
     "metadata": {},
     "output_type": "execute_result"
    }
   ],
   "source": [
    "df['GENRE'] = df.GENRE.str.strip(\"\\n\")\n",
    "df['GENRE']"
   ]
  },
  {
   "cell_type": "code",
   "execution_count": 35,
   "id": "233b0140",
   "metadata": {},
   "outputs": [
    {
     "data": {
      "text/plain": [
       "0       A woman with a mysterious illness is forced in...\n",
       "1       The war for Eternia begins again in what may b...\n",
       "2       Sheriff Deputy Rick Grimes wakes up from a com...\n",
       "3       An animated series that follows the exploits o...\n",
       "4       A prequel, set before the events of Army of th...\n",
       "                              ...                        \n",
       "9994                                           Add a Plot\n",
       "9995                                           Add a Plot\n",
       "9996                                           Add a Plot\n",
       "9997                                           Add a Plot\n",
       "9998                                           Add a Plot\n",
       "Name: one_line, Length: 9999, dtype: object"
      ]
     },
     "execution_count": 35,
     "metadata": {},
     "output_type": "execute_result"
    }
   ],
   "source": [
    "df['one_line'] = df.one_line.str.strip()\n",
    "df['one_line']"
   ]
  },
  {
   "cell_type": "code",
   "execution_count": 36,
   "id": "6fdcfc5a",
   "metadata": {},
   "outputs": [],
   "source": [
    "#df['STARS'] = df.STARS.str.strip()\n",
    "#df['STARS'].value_counts()"
   ]
  },
  {
   "cell_type": "code",
   "execution_count": 37,
   "id": "ad02543e",
   "metadata": {},
   "outputs": [],
   "source": [
    "df.replace({\"STARS\": {\"\\n\": \"\"}}, regex=True, inplace=True)"
   ]
  },
  {
   "cell_type": "code",
   "execution_count": 38,
   "id": "2b6bd69f",
   "metadata": {},
   "outputs": [
    {
     "data": {
      "text/plain": [
       "                                                                                                                       456\n",
       "                Stars:Emmanuel Esparza, Essined Aponte, Manuel Navarro, Álvaro Benet                                    58\n",
       "    Directors:Rajiv Chilaka, Krishna Mohan Chintapatla                                                                  49\n",
       "    Director:Oliver Driver|     Stars:Rorrie D. Travis, Jasmeet Baduwalia, Jacqueline Scislowski, Abraham Rodriguez     21\n",
       "                Star:Michael J. Woodard                                                                                 19\n",
       "                                                                                                                      ... \n",
       "                Stars:Dong-wook Kim, Moon Ga-young, Seul-gi Kim, Jong-Hoon Yoon                                          1\n",
       "                Stars:Charles Demers, Rebecca Husain, Lili Beaudoin, Ashleigh Ball                                       1\n",
       "                Stars:John Paul Tremblay, Robb Wells, Mike Smith, Tom Mayhue                                             1\n",
       "                Stars:Su Meng Di, Dai Yun Fan, Charles Lin, Jasper Liu                                                   1\n",
       "    Director:Jovanka Vuckovic|     Stars:Morgan Taylor Campbell, Jennifer Cheon Garcia, Iñaki Godoy, Rhianna Jagpal      1\n",
       "Name: STARS, Length: 7877, dtype: int64"
      ]
     },
     "execution_count": 38,
     "metadata": {},
     "output_type": "execute_result"
    }
   ],
   "source": [
    "df.STARS.value_counts()"
   ]
  },
  {
   "cell_type": "code",
   "execution_count": 39,
   "id": "cb7828c7",
   "metadata": {},
   "outputs": [],
   "source": [
    "def fill_most(df, group_col, col_name):\n",
    "    '''Fills the missing values with the most existing value (mode) in the relevant column according to single-stage grouping'''\n",
    "    for group in list(df[group_col].unique()):\n",
    "        cond = df[group_col]==group\n",
    "        mode = list(df[cond][col_name].mode())\n",
    "        if mode != []:\n",
    "            df.loc[cond, col_name] = df.loc[cond, col_name].fillna(df[cond][col_name].mode()[0])\n",
    "        else:\n",
    "            df.loc[cond, col_name] = df.loc[cond, col_name].fillna(df[col_name].mode()[0])\n",
    "    print(\"Number of NaN : \",df[col_name].isnull().sum())\n",
    "    print(\"------------------\")\n",
    "    print(df[col_name].value_counts(dropna=False))"
   ]
  },
  {
   "cell_type": "code",
   "execution_count": 40,
   "id": "798b0ccb",
   "metadata": {},
   "outputs": [],
   "source": [
    "def fill_prop(df, group_col, col_name):\n",
    "    '''Fills the missing values with \"ffill and bfill method\" according to single-stage grouping'''\n",
    "    for group in list(df[group_col].unique()):\n",
    "        cond = df[group_col]==group\n",
    "        df.loc[cond, col_name] = df.loc[cond, col_name].fillna(method=\"ffill\").fillna(method=\"bfill\")\n",
    "    df[col_name] = df[col_name].fillna(method=\"ffill\").fillna(method=\"bfill\")\n",
    "    print(\"Number of NaN : \",df[col_name].isnull().sum())\n",
    "    print(\"------------------\")\n",
    "    print(df[col_name].value_counts(dropna=False))"
   ]
  },
  {
   "cell_type": "code",
   "execution_count": 41,
   "id": "e45b48ba",
   "metadata": {},
   "outputs": [],
   "source": [
    "def fill(df, group_col1, group_col2, col_name, method): # method can be \"mode\" or \"median\" or \"ffill\"\n",
    "    if method == \"mode\":\n",
    "        for group1 in list(df[group_col1].unique()):\n",
    "            for group2 in list(df[group_col2].unique()):\n",
    "                cond1 = df[group_col1]==group1\n",
    "                cond2 = (df[group_col1]==group1) & (df[group_col2]==group2)\n",
    "                mode1 = list(df[cond1][col_name].mode())\n",
    "                mode2 = list(df[cond2][col_name].mode())\n",
    "                if mode2 != []:\n",
    "                    df.loc[cond2, col_name] = df.loc[cond2, col_name].fillna(df[cond2][col_name].mode()[0])\n",
    "                elif mode1 != []:\n",
    "                    df.loc[cond2, col_name] = df.loc[cond2, col_name].fillna(df[cond1][col_name].mode()[0])\n",
    "                else:\n",
    "                    df.loc[cond2, col_name] = df.loc[cond2, col_name].fillna(df[col_name].mode()[0])\n",
    "                \n",
    "    elif method == \"median\":\n",
    "        for group1 in list(df[group_col1].unique()):\n",
    "            for group2 in list(df[group_col2].unique()):\n",
    "                cond1 = df[group_col1]==group1\n",
    "                cond2 = (df[group_col1]==group1) & (df[group_col2]==group2)\n",
    "                df.loc[cond2, col_name] = df.loc[cond2, col_name].fillna(df[cond2][col_name].median()).fillna(df[cond1][col_name].median()).fillna(df[col_name].median())\n",
    "                \n",
    "    elif method == \"ffill\":           \n",
    "        for group1 in list(df[group_col1].unique()):\n",
    "            for group2 in list(df[group_col2].unique()):\n",
    "                cond2 = (df[group_col1]==group1) & (df[group_col2]==group2)\n",
    "                df.loc[cond2, col_name] = df.loc[cond2, col_name].fillna(method=\"ffill\").fillna(method=\"bfill\")\n",
    "                \n",
    "        for group1 in list(df[group_col1].unique()):\n",
    "            cond1 = df[group_col1]==group1\n",
    "            df.loc[cond1, col_name] = df.loc[cond1, col_name].fillna(method=\"ffill\").fillna(method=\"bfill\")            \n",
    "           \n",
    "        df[col_name] = df[col_name].fillna(method=\"ffill\").fillna(method=\"bfill\")\n",
    "    \n",
    "    print(\"Number of NaN : \",df[col_name].isnull().sum())\n",
    "    print(\"------------------\")\n",
    "    print(df[col_name].value_counts(dropna=False))"
   ]
  },
  {
   "cell_type": "code",
   "execution_count": 42,
   "id": "4d2f3aab",
   "metadata": {},
   "outputs": [
    {
     "data": {
      "text/plain": [
       "YEAR          GENRE                                  \n",
       "(1932)        Action, Crime, Drama                       1\n",
       "              Comedy                                     1\n",
       "(1933)        Comedy                                     1\n",
       "(1938)        Drama                                      1\n",
       "(1941)        Animation, Adventure, Drama                1\n",
       "                                                        ..\n",
       "(XII)         Comedy                                     1\n",
       "(XIII)        Sci-Fi                                     1\n",
       "(XIV) (2017)  Drama                                      1\n",
       "(XLI)         Drama                                      1\n",
       "(XXIII)       Comedy                                     1\n",
       "Name: GENRE, Length: 3186, dtype: int64"
      ]
     },
     "execution_count": 42,
     "metadata": {},
     "output_type": "execute_result"
    }
   ],
   "source": [
    "df.groupby(\"YEAR\").GENRE.value_counts()"
   ]
  },
  {
   "cell_type": "code",
   "execution_count": 43,
   "id": "b84ac8d0",
   "metadata": {},
   "outputs": [
    {
     "data": {
      "text/plain": [
       "0        21,062\n",
       "1        17,870\n",
       "2       885,805\n",
       "3       414,849\n",
       "4       414,849\n",
       "         ...   \n",
       "9994        433\n",
       "9995        433\n",
       "9996        433\n",
       "9997        433\n",
       "9998        433\n",
       "Name: VOTES, Length: 9999, dtype: object"
      ]
     },
     "execution_count": 43,
     "metadata": {},
     "output_type": "execute_result"
    }
   ],
   "source": [
    "df[\"VOTES\"] = df[\"VOTES\"].fillna(method=\"ffill\")\n",
    "df[\"VOTES\"]"
   ]
  },
  {
   "cell_type": "code",
   "execution_count": 44,
   "id": "35cb7520",
   "metadata": {},
   "outputs": [
    {
     "data": {
      "text/plain": [
       "0       121.0\n",
       "1        25.0\n",
       "2        44.0\n",
       "3        23.0\n",
       "4        23.0\n",
       "        ...  \n",
       "9994     38.0\n",
       "9995     38.0\n",
       "9996     38.0\n",
       "9997     38.0\n",
       "9998     38.0\n",
       "Name: RunTime, Length: 9999, dtype: float64"
      ]
     },
     "execution_count": 44,
     "metadata": {},
     "output_type": "execute_result"
    }
   ],
   "source": [
    "df[\"RunTime\"] = df[\"RunTime\"].fillna(method=\"ffill\")\n",
    "df[\"RunTime\"]"
   ]
  },
  {
   "cell_type": "code",
   "execution_count": 45,
   "id": "dd0ae16d",
   "metadata": {},
   "outputs": [
    {
     "data": {
      "text/plain": [
       "0       6.1\n",
       "1       5.0\n",
       "2       8.2\n",
       "3       9.2\n",
       "4       9.2\n",
       "       ... \n",
       "9994    8.8\n",
       "9995    8.8\n",
       "9996    8.8\n",
       "9997    8.8\n",
       "9998    8.8\n",
       "Name: RATING, Length: 9999, dtype: float64"
      ]
     },
     "execution_count": 45,
     "metadata": {},
     "output_type": "execute_result"
    }
   ],
   "source": [
    "df[\"RATING\"] = df[\"RATING\"].fillna(method=\"ffill\")\n",
    "df[\"RATING\"]"
   ]
  },
  {
   "cell_type": "code",
   "execution_count": 46,
   "id": "cbafa2bb",
   "metadata": {},
   "outputs": [],
   "source": [
    "#df.YEAR.str.extract(\"^()$\")"
   ]
  }
 ],
 "metadata": {
  "kernelspec": {
   "display_name": "Python 3 (ipykernel)",
   "language": "python",
   "name": "python3"
  },
  "language_info": {
   "codemirror_mode": {
    "name": "ipython",
    "version": 3
   },
   "file_extension": ".py",
   "mimetype": "text/x-python",
   "name": "python",
   "nbconvert_exporter": "python",
   "pygments_lexer": "ipython3",
   "version": "3.9.12"
  },
  "vscode": {
   "interpreter": {
    "hash": "b9392bb17cf4230a5b5206b2333b257a3c5df3373cc5a567fdcdca59143bea39"
   }
  }
 },
 "nbformat": 4,
 "nbformat_minor": 5
}
